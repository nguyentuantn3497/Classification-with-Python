{
  "nbformat": 4,
  "nbformat_minor": 0,
  "metadata": {
    "colab": {
      "name": "DSP303x_01_EN_2_Starter_Code..ipynb",
      "provenance": [],
      "collapsed_sections": [
        "450BrJ44M1l6"
      ]
    },
    "language_info": {
      "codemirror_mode": {
        "name": "ipython",
        "version": 3
      },
      "file_extension": ".py",
      "mimetype": "text/x-python",
      "name": "python",
      "nbconvert_exporter": "python",
      "pygments_lexer": "ipython3",
      "version": "3.7.1"
    },
    "kernelspec": {
      "display_name": "Python 3",
      "language": "python",
      "name": "python3"
    }
  },
  "cells": [
    {
      "cell_type": "markdown",
      "metadata": {
        "button": false,
        "new_sheet": false,
        "run_control": {
          "read_only": false
        },
        "id": "SzPE54CYM1kJ"
      },
      "source": [
        "<h1 align=center><font size = 10> Classification with Python</font></h1>"
      ]
    },
    {
      "cell_type": "markdown",
      "metadata": {
        "button": false,
        "new_sheet": false,
        "run_control": {
          "read_only": false
        },
        "id": "XPfbiVLfM1kK"
      },
      "source": [
        "In this notebook, we try to practice all the classification algorithms that we have learned in this course.\n",
        "\n",
        "We load a dataset using the Pandas library, and apply the following algorithms, and find the best one for this specific dataset by accuracy evaluation methods.\n",
        "\n",
        "Lets first load required libraries:"
      ]
    },
    {
      "cell_type": "code",
      "metadata": {
        "button": false,
        "new_sheet": false,
        "run_control": {
          "read_only": false
        },
        "id": "vcBmcLcqM1kL"
      },
      "source": [
        "import matplotlib.pyplot as plt\n",
        "from matplotlib.ticker import NullFormatter\n",
        "import pandas as pd\n",
        "import numpy as np\n",
        "import matplotlib.ticker as ticker\n",
        "from sklearn import preprocessing\n",
        "%matplotlib inline\n",
        "%matplotlib inline\n",
        "import seaborn as sns"
      ],
      "execution_count": 2,
      "outputs": []
    },
    {
      "cell_type": "markdown",
      "metadata": {
        "id": "PKehb7okM1kN"
      },
      "source": [
        "# Mandatory part (85%  of the total score)"
      ]
    },
    {
      "cell_type": "markdown",
      "metadata": {
        "id": "1OXuDMKku37m"
      },
      "source": [
        ""
      ]
    },
    {
      "cell_type": "markdown",
      "metadata": {
        "button": false,
        "new_sheet": false,
        "run_control": {
          "read_only": false
        },
        "id": "ZAL75IefM1kO"
      },
      "source": [
        "## About dataset"
      ]
    },
    {
      "cell_type": "markdown",
      "metadata": {
        "button": false,
        "new_sheet": false,
        "run_control": {
          "read_only": false
        },
        "id": "yrPdRO--M1kO"
      },
      "source": [
        "The Pima is a group of Native Americans living in Arizona. A genetic predisposition allowed this group to survive normally to a diet poor of carbohydrates for years. In recent years, a sudden shift from traditional agricultural crops to processed foods, together with a decline in physical activity, has made them develop the highest prevalence of type 2 diabetes and for this reason, they have been subject of many studies.\n",
        "\n",
        "The dataset includes data from 768 women with 8 characteristics, in particular:\n",
        "\n",
        "- Number of times pregnant\n",
        "- Plasma glucose concentration a 2 hours in an oral glucose tolerance test\n",
        "- Diastolic blood pressure (mm Hg)\n",
        "- Triceps skinfold thickness (mm)\n",
        "- 2-Hour serum insulin (mu U/ml)\n",
        "- Body mass index (weight in kg/(height in m)^2)\n",
        "- Diabetes pedigree function\n",
        "- Age (years)\n",
        "- The last column of the dataset indicates if the person has been diagnosed with diabetes (1) or not (0)"
      ]
    },
    {
      "cell_type": "markdown",
      "metadata": {
        "id": "dzJFrqwyM1kP"
      },
      "source": [
        "## The problem:"
      ]
    },
    {
      "cell_type": "markdown",
      "metadata": {
        "id": "WFl47FBcM1kQ"
      },
      "source": [
        "The type of dataset and problem is a classic supervised binary classification. Given a number of elements with certain characteristics (features), we want to build a machine learning model to identify people affected by type 2 diabetes.\n",
        "\n",
        "To solve the problem we will have to analyze the data, do any required transformation and nomarlization, apply a machine learning algorithm, train a model, check the performance of the trained model and iterate with other algorithms until we find the most performant for our type of dataset."
      ]
    },
    {
      "cell_type": "markdown",
      "metadata": {
        "button": false,
        "new_sheet": false,
        "run_control": {
          "read_only": false
        },
        "id": "Diy5tSZ7M1kQ"
      },
      "source": [
        "## Load Data From CSV File  "
      ]
    },
    {
      "cell_type": "markdown",
      "metadata": {
        "id": "qdIctwmZM1kR"
      },
      "source": [
        "### 1. Load the dataset from the 'pima-indians-diabetes.csv' file.\n",
        "\n",
        "Because the CSV doesn't contain any header, we add column names using the description from the original dataset website:\n",
        "\n",
        "dataset.columns = [\"NumTimesPrg\", \"PlGlcConc\", \"BloodP\", \"SkinThick\", \"TwoHourSerIns\", \"BMI\", \"DiPedFunc\", \"Age\", \"HasDiabetes\"]"
      ]
    },
    {
      "cell_type": "code",
      "metadata": {
        "button": false,
        "new_sheet": false,
        "run_control": {
          "read_only": false
        },
        "id": "K-TmhZ8vM1kS",
        "colab": {
          "base_uri": "https://localhost:8080/",
          "height": 206
        },
        "outputId": "2f220946-8c2d-4b85-c233-829526aea4ad"
      },
      "source": [
        "#TO DO:\n",
        "key = [\"NumTimesPrg\", \"PlGlcConc\", \"BloodP\", \"SkinThick\", \"TwoHourSerIns\", \"BMI\", \"DiPedFunc\", \"Age\", \"HasDiabetes\"]\n",
        "df = pd.read_csv('pima-indians-diabetes.csv', names=key)\n",
        "df.head()"
      ],
      "execution_count": 3,
      "outputs": [
        {
          "output_type": "execute_result",
          "data": {
            "text/html": [
              "\n",
              "  <div id=\"df-230c4fff-3722-4563-97b7-acaa987d0b1d\">\n",
              "    <div class=\"colab-df-container\">\n",
              "      <div>\n",
              "<style scoped>\n",
              "    .dataframe tbody tr th:only-of-type {\n",
              "        vertical-align: middle;\n",
              "    }\n",
              "\n",
              "    .dataframe tbody tr th {\n",
              "        vertical-align: top;\n",
              "    }\n",
              "\n",
              "    .dataframe thead th {\n",
              "        text-align: right;\n",
              "    }\n",
              "</style>\n",
              "<table border=\"1\" class=\"dataframe\">\n",
              "  <thead>\n",
              "    <tr style=\"text-align: right;\">\n",
              "      <th></th>\n",
              "      <th>NumTimesPrg</th>\n",
              "      <th>PlGlcConc</th>\n",
              "      <th>BloodP</th>\n",
              "      <th>SkinThick</th>\n",
              "      <th>TwoHourSerIns</th>\n",
              "      <th>BMI</th>\n",
              "      <th>DiPedFunc</th>\n",
              "      <th>Age</th>\n",
              "      <th>HasDiabetes</th>\n",
              "    </tr>\n",
              "  </thead>\n",
              "  <tbody>\n",
              "    <tr>\n",
              "      <th>0</th>\n",
              "      <td>6</td>\n",
              "      <td>148</td>\n",
              "      <td>72</td>\n",
              "      <td>35</td>\n",
              "      <td>0</td>\n",
              "      <td>33.6</td>\n",
              "      <td>0.627</td>\n",
              "      <td>50</td>\n",
              "      <td>1</td>\n",
              "    </tr>\n",
              "    <tr>\n",
              "      <th>1</th>\n",
              "      <td>1</td>\n",
              "      <td>85</td>\n",
              "      <td>66</td>\n",
              "      <td>29</td>\n",
              "      <td>0</td>\n",
              "      <td>26.6</td>\n",
              "      <td>0.351</td>\n",
              "      <td>31</td>\n",
              "      <td>0</td>\n",
              "    </tr>\n",
              "    <tr>\n",
              "      <th>2</th>\n",
              "      <td>8</td>\n",
              "      <td>183</td>\n",
              "      <td>64</td>\n",
              "      <td>0</td>\n",
              "      <td>0</td>\n",
              "      <td>23.3</td>\n",
              "      <td>0.672</td>\n",
              "      <td>32</td>\n",
              "      <td>1</td>\n",
              "    </tr>\n",
              "    <tr>\n",
              "      <th>3</th>\n",
              "      <td>1</td>\n",
              "      <td>89</td>\n",
              "      <td>66</td>\n",
              "      <td>23</td>\n",
              "      <td>94</td>\n",
              "      <td>28.1</td>\n",
              "      <td>0.167</td>\n",
              "      <td>21</td>\n",
              "      <td>0</td>\n",
              "    </tr>\n",
              "    <tr>\n",
              "      <th>4</th>\n",
              "      <td>0</td>\n",
              "      <td>137</td>\n",
              "      <td>40</td>\n",
              "      <td>35</td>\n",
              "      <td>168</td>\n",
              "      <td>43.1</td>\n",
              "      <td>2.288</td>\n",
              "      <td>33</td>\n",
              "      <td>1</td>\n",
              "    </tr>\n",
              "  </tbody>\n",
              "</table>\n",
              "</div>\n",
              "      <button class=\"colab-df-convert\" onclick=\"convertToInteractive('df-230c4fff-3722-4563-97b7-acaa987d0b1d')\"\n",
              "              title=\"Convert this dataframe to an interactive table.\"\n",
              "              style=\"display:none;\">\n",
              "        \n",
              "  <svg xmlns=\"http://www.w3.org/2000/svg\" height=\"24px\"viewBox=\"0 0 24 24\"\n",
              "       width=\"24px\">\n",
              "    <path d=\"M0 0h24v24H0V0z\" fill=\"none\"/>\n",
              "    <path d=\"M18.56 5.44l.94 2.06.94-2.06 2.06-.94-2.06-.94-.94-2.06-.94 2.06-2.06.94zm-11 1L8.5 8.5l.94-2.06 2.06-.94-2.06-.94L8.5 2.5l-.94 2.06-2.06.94zm10 10l.94 2.06.94-2.06 2.06-.94-2.06-.94-.94-2.06-.94 2.06-2.06.94z\"/><path d=\"M17.41 7.96l-1.37-1.37c-.4-.4-.92-.59-1.43-.59-.52 0-1.04.2-1.43.59L10.3 9.45l-7.72 7.72c-.78.78-.78 2.05 0 2.83L4 21.41c.39.39.9.59 1.41.59.51 0 1.02-.2 1.41-.59l7.78-7.78 2.81-2.81c.8-.78.8-2.07 0-2.86zM5.41 20L4 18.59l7.72-7.72 1.47 1.35L5.41 20z\"/>\n",
              "  </svg>\n",
              "      </button>\n",
              "      \n",
              "  <style>\n",
              "    .colab-df-container {\n",
              "      display:flex;\n",
              "      flex-wrap:wrap;\n",
              "      gap: 12px;\n",
              "    }\n",
              "\n",
              "    .colab-df-convert {\n",
              "      background-color: #E8F0FE;\n",
              "      border: none;\n",
              "      border-radius: 50%;\n",
              "      cursor: pointer;\n",
              "      display: none;\n",
              "      fill: #1967D2;\n",
              "      height: 32px;\n",
              "      padding: 0 0 0 0;\n",
              "      width: 32px;\n",
              "    }\n",
              "\n",
              "    .colab-df-convert:hover {\n",
              "      background-color: #E2EBFA;\n",
              "      box-shadow: 0px 1px 2px rgba(60, 64, 67, 0.3), 0px 1px 3px 1px rgba(60, 64, 67, 0.15);\n",
              "      fill: #174EA6;\n",
              "    }\n",
              "\n",
              "    [theme=dark] .colab-df-convert {\n",
              "      background-color: #3B4455;\n",
              "      fill: #D2E3FC;\n",
              "    }\n",
              "\n",
              "    [theme=dark] .colab-df-convert:hover {\n",
              "      background-color: #434B5C;\n",
              "      box-shadow: 0px 1px 3px 1px rgba(0, 0, 0, 0.15);\n",
              "      filter: drop-shadow(0px 1px 2px rgba(0, 0, 0, 0.3));\n",
              "      fill: #FFFFFF;\n",
              "    }\n",
              "  </style>\n",
              "\n",
              "      <script>\n",
              "        const buttonEl =\n",
              "          document.querySelector('#df-230c4fff-3722-4563-97b7-acaa987d0b1d button.colab-df-convert');\n",
              "        buttonEl.style.display =\n",
              "          google.colab.kernel.accessAllowed ? 'block' : 'none';\n",
              "\n",
              "        async function convertToInteractive(key) {\n",
              "          const element = document.querySelector('#df-230c4fff-3722-4563-97b7-acaa987d0b1d');\n",
              "          const dataTable =\n",
              "            await google.colab.kernel.invokeFunction('convertToInteractive',\n",
              "                                                     [key], {});\n",
              "          if (!dataTable) return;\n",
              "\n",
              "          const docLinkHtml = 'Like what you see? Visit the ' +\n",
              "            '<a target=\"_blank\" href=https://colab.research.google.com/notebooks/data_table.ipynb>data table notebook</a>'\n",
              "            + ' to learn more about interactive tables.';\n",
              "          element.innerHTML = '';\n",
              "          dataTable['output_type'] = 'display_data';\n",
              "          await google.colab.output.renderOutput(dataTable, element);\n",
              "          const docLink = document.createElement('div');\n",
              "          docLink.innerHTML = docLinkHtml;\n",
              "          element.appendChild(docLink);\n",
              "        }\n",
              "      </script>\n",
              "    </div>\n",
              "  </div>\n",
              "  "
            ],
            "text/plain": [
              "   NumTimesPrg  PlGlcConc  BloodP  SkinThick  ...   BMI  DiPedFunc  Age  HasDiabetes\n",
              "0            6        148      72         35  ...  33.6      0.627   50            1\n",
              "1            1         85      66         29  ...  26.6      0.351   31            0\n",
              "2            8        183      64          0  ...  23.3      0.672   32            1\n",
              "3            1         89      66         23  ...  28.1      0.167   21            0\n",
              "4            0        137      40         35  ...  43.1      2.288   33            1\n",
              "\n",
              "[5 rows x 9 columns]"
            ]
          },
          "metadata": {},
          "execution_count": 3
        }
      ]
    },
    {
      "cell_type": "markdown",
      "metadata": {
        "button": false,
        "new_sheet": false,
        "run_control": {
          "read_only": false
        },
        "id": "AmBhwo0DM1kU"
      },
      "source": [
        "## Inspect the Dataset"
      ]
    },
    {
      "cell_type": "markdown",
      "metadata": {
        "id": "_HlgbaIQM1kU"
      },
      "source": [
        "### 2. Print out the shape of the dataset: we have 768 rows and 9 columns. Then, print out the head of the dataset to better understand the data format.\n",
        "\n",
        "The first 8 columns are features while the last one is the supervised label (1 = has diabetes, 0 = no diabetes)"
      ]
    },
    {
      "cell_type": "code",
      "metadata": {
        "button": false,
        "new_sheet": false,
        "run_control": {
          "read_only": false
        },
        "id": "bpyxtYzcM1kV"
      },
      "source": [
        "#TO DO:\n",
        "Number of times pregnant\n",
        "Plasma glucose concentration a 2 hours in an oral glucose tolerance test\n",
        "Diastolic blood pressure (mm Hg)\n",
        "Triceps skinfold thickness (mm)\n",
        "2-Hour serum insulin (mu U/ml)\n",
        "Body mass index (weight in kg/(height in m)^2)\n",
        "Diabetes pedigree function\n",
        "Age (years)"
      ],
      "execution_count": null,
      "outputs": []
    },
    {
      "cell_type": "code",
      "source": [
        "# tieu de cua df la 1 dong data, nen sau khi phats hien quay lai sua header = None\n",
        "df.shape\n"
      ],
      "metadata": {
        "colab": {
          "base_uri": "https://localhost:8080/"
        },
        "id": "ItkKWjDUwbVv",
        "outputId": "723daff7-0eac-4035-f01e-5acc2dd13a77"
      },
      "execution_count": null,
      "outputs": [
        {
          "output_type": "execute_result",
          "data": {
            "text/plain": [
              "(768, 9)"
            ]
          },
          "metadata": {},
          "execution_count": 4
        }
      ]
    },
    {
      "cell_type": "code",
      "source": [
        "df.columns\n"
      ],
      "metadata": {
        "colab": {
          "base_uri": "https://localhost:8080/"
        },
        "id": "LjJy3l8dE7ir",
        "outputId": "c2b37513-8642-414e-996f-c0f1b435627d"
      },
      "execution_count": null,
      "outputs": [
        {
          "output_type": "execute_result",
          "data": {
            "text/plain": [
              "Index(['NumTimesPrg', 'PlGlcConc', 'BloodP', 'SkinThick', 'TwoHourSerIns',\n",
              "       'BMI', 'DiPedFunc', 'Age', 'HasDiabetes'],\n",
              "      dtype='object')"
            ]
          },
          "metadata": {},
          "execution_count": 5
        }
      ]
    },
    {
      "cell_type": "code",
      "source": [
        "df.info\n"
      ],
      "metadata": {
        "id": "QGtTpUmYE-kw",
        "outputId": "ed8a9664-b18d-4e01-ef1f-10a716bf4e66",
        "colab": {
          "base_uri": "https://localhost:8080/"
        }
      },
      "execution_count": null,
      "outputs": [
        {
          "output_type": "execute_result",
          "data": {
            "text/plain": [
              "<bound method DataFrame.info of      NumTimesPrg  PlGlcConc  BloodP  ...  DiPedFunc  Age  HasDiabetes\n",
              "0              6        148      72  ...      0.627   50            1\n",
              "1              1         85      66  ...      0.351   31            0\n",
              "2              8        183      64  ...      0.672   32            1\n",
              "3              1         89      66  ...      0.167   21            0\n",
              "4              0        137      40  ...      2.288   33            1\n",
              "..           ...        ...     ...  ...        ...  ...          ...\n",
              "763           10        101      76  ...      0.171   63            0\n",
              "764            2        122      70  ...      0.340   27            0\n",
              "765            5        121      72  ...      0.245   30            0\n",
              "766            1        126      60  ...      0.349   47            1\n",
              "767            1         93      70  ...      0.315   23            0\n",
              "\n",
              "[768 rows x 9 columns]>"
            ]
          },
          "metadata": {},
          "execution_count": 6
        }
      ]
    },
    {
      "cell_type": "code",
      "source": [
        "df.describe()\n"
      ],
      "metadata": {
        "id": "o3_vaB0JFAcL",
        "outputId": "b05fa45f-ccbb-45a0-b194-7cb7f5a4ac83",
        "colab": {
          "base_uri": "https://localhost:8080/",
          "height": 300
        }
      },
      "execution_count": null,
      "outputs": [
        {
          "output_type": "execute_result",
          "data": {
            "text/html": [
              "\n",
              "  <div id=\"df-9b257608-7377-47df-ba80-d5fe004acd86\">\n",
              "    <div class=\"colab-df-container\">\n",
              "      <div>\n",
              "<style scoped>\n",
              "    .dataframe tbody tr th:only-of-type {\n",
              "        vertical-align: middle;\n",
              "    }\n",
              "\n",
              "    .dataframe tbody tr th {\n",
              "        vertical-align: top;\n",
              "    }\n",
              "\n",
              "    .dataframe thead th {\n",
              "        text-align: right;\n",
              "    }\n",
              "</style>\n",
              "<table border=\"1\" class=\"dataframe\">\n",
              "  <thead>\n",
              "    <tr style=\"text-align: right;\">\n",
              "      <th></th>\n",
              "      <th>NumTimesPrg</th>\n",
              "      <th>PlGlcConc</th>\n",
              "      <th>BloodP</th>\n",
              "      <th>SkinThick</th>\n",
              "      <th>TwoHourSerIns</th>\n",
              "      <th>BMI</th>\n",
              "      <th>DiPedFunc</th>\n",
              "      <th>Age</th>\n",
              "      <th>HasDiabetes</th>\n",
              "    </tr>\n",
              "  </thead>\n",
              "  <tbody>\n",
              "    <tr>\n",
              "      <th>count</th>\n",
              "      <td>768.000000</td>\n",
              "      <td>768.000000</td>\n",
              "      <td>768.000000</td>\n",
              "      <td>768.000000</td>\n",
              "      <td>768.000000</td>\n",
              "      <td>768.000000</td>\n",
              "      <td>768.000000</td>\n",
              "      <td>768.000000</td>\n",
              "      <td>768.000000</td>\n",
              "    </tr>\n",
              "    <tr>\n",
              "      <th>mean</th>\n",
              "      <td>3.845052</td>\n",
              "      <td>120.894531</td>\n",
              "      <td>69.105469</td>\n",
              "      <td>20.536458</td>\n",
              "      <td>79.799479</td>\n",
              "      <td>31.992578</td>\n",
              "      <td>0.471876</td>\n",
              "      <td>33.240885</td>\n",
              "      <td>0.348958</td>\n",
              "    </tr>\n",
              "    <tr>\n",
              "      <th>std</th>\n",
              "      <td>3.369578</td>\n",
              "      <td>31.972618</td>\n",
              "      <td>19.355807</td>\n",
              "      <td>15.952218</td>\n",
              "      <td>115.244002</td>\n",
              "      <td>7.884160</td>\n",
              "      <td>0.331329</td>\n",
              "      <td>11.760232</td>\n",
              "      <td>0.476951</td>\n",
              "    </tr>\n",
              "    <tr>\n",
              "      <th>min</th>\n",
              "      <td>0.000000</td>\n",
              "      <td>0.000000</td>\n",
              "      <td>0.000000</td>\n",
              "      <td>0.000000</td>\n",
              "      <td>0.000000</td>\n",
              "      <td>0.000000</td>\n",
              "      <td>0.078000</td>\n",
              "      <td>21.000000</td>\n",
              "      <td>0.000000</td>\n",
              "    </tr>\n",
              "    <tr>\n",
              "      <th>25%</th>\n",
              "      <td>1.000000</td>\n",
              "      <td>99.000000</td>\n",
              "      <td>62.000000</td>\n",
              "      <td>0.000000</td>\n",
              "      <td>0.000000</td>\n",
              "      <td>27.300000</td>\n",
              "      <td>0.243750</td>\n",
              "      <td>24.000000</td>\n",
              "      <td>0.000000</td>\n",
              "    </tr>\n",
              "    <tr>\n",
              "      <th>50%</th>\n",
              "      <td>3.000000</td>\n",
              "      <td>117.000000</td>\n",
              "      <td>72.000000</td>\n",
              "      <td>23.000000</td>\n",
              "      <td>30.500000</td>\n",
              "      <td>32.000000</td>\n",
              "      <td>0.372500</td>\n",
              "      <td>29.000000</td>\n",
              "      <td>0.000000</td>\n",
              "    </tr>\n",
              "    <tr>\n",
              "      <th>75%</th>\n",
              "      <td>6.000000</td>\n",
              "      <td>140.250000</td>\n",
              "      <td>80.000000</td>\n",
              "      <td>32.000000</td>\n",
              "      <td>127.250000</td>\n",
              "      <td>36.600000</td>\n",
              "      <td>0.626250</td>\n",
              "      <td>41.000000</td>\n",
              "      <td>1.000000</td>\n",
              "    </tr>\n",
              "    <tr>\n",
              "      <th>max</th>\n",
              "      <td>17.000000</td>\n",
              "      <td>199.000000</td>\n",
              "      <td>122.000000</td>\n",
              "      <td>99.000000</td>\n",
              "      <td>846.000000</td>\n",
              "      <td>67.100000</td>\n",
              "      <td>2.420000</td>\n",
              "      <td>81.000000</td>\n",
              "      <td>1.000000</td>\n",
              "    </tr>\n",
              "  </tbody>\n",
              "</table>\n",
              "</div>\n",
              "      <button class=\"colab-df-convert\" onclick=\"convertToInteractive('df-9b257608-7377-47df-ba80-d5fe004acd86')\"\n",
              "              title=\"Convert this dataframe to an interactive table.\"\n",
              "              style=\"display:none;\">\n",
              "        \n",
              "  <svg xmlns=\"http://www.w3.org/2000/svg\" height=\"24px\"viewBox=\"0 0 24 24\"\n",
              "       width=\"24px\">\n",
              "    <path d=\"M0 0h24v24H0V0z\" fill=\"none\"/>\n",
              "    <path d=\"M18.56 5.44l.94 2.06.94-2.06 2.06-.94-2.06-.94-.94-2.06-.94 2.06-2.06.94zm-11 1L8.5 8.5l.94-2.06 2.06-.94-2.06-.94L8.5 2.5l-.94 2.06-2.06.94zm10 10l.94 2.06.94-2.06 2.06-.94-2.06-.94-.94-2.06-.94 2.06-2.06.94z\"/><path d=\"M17.41 7.96l-1.37-1.37c-.4-.4-.92-.59-1.43-.59-.52 0-1.04.2-1.43.59L10.3 9.45l-7.72 7.72c-.78.78-.78 2.05 0 2.83L4 21.41c.39.39.9.59 1.41.59.51 0 1.02-.2 1.41-.59l7.78-7.78 2.81-2.81c.8-.78.8-2.07 0-2.86zM5.41 20L4 18.59l7.72-7.72 1.47 1.35L5.41 20z\"/>\n",
              "  </svg>\n",
              "      </button>\n",
              "      \n",
              "  <style>\n",
              "    .colab-df-container {\n",
              "      display:flex;\n",
              "      flex-wrap:wrap;\n",
              "      gap: 12px;\n",
              "    }\n",
              "\n",
              "    .colab-df-convert {\n",
              "      background-color: #E8F0FE;\n",
              "      border: none;\n",
              "      border-radius: 50%;\n",
              "      cursor: pointer;\n",
              "      display: none;\n",
              "      fill: #1967D2;\n",
              "      height: 32px;\n",
              "      padding: 0 0 0 0;\n",
              "      width: 32px;\n",
              "    }\n",
              "\n",
              "    .colab-df-convert:hover {\n",
              "      background-color: #E2EBFA;\n",
              "      box-shadow: 0px 1px 2px rgba(60, 64, 67, 0.3), 0px 1px 3px 1px rgba(60, 64, 67, 0.15);\n",
              "      fill: #174EA6;\n",
              "    }\n",
              "\n",
              "    [theme=dark] .colab-df-convert {\n",
              "      background-color: #3B4455;\n",
              "      fill: #D2E3FC;\n",
              "    }\n",
              "\n",
              "    [theme=dark] .colab-df-convert:hover {\n",
              "      background-color: #434B5C;\n",
              "      box-shadow: 0px 1px 3px 1px rgba(0, 0, 0, 0.15);\n",
              "      filter: drop-shadow(0px 1px 2px rgba(0, 0, 0, 0.3));\n",
              "      fill: #FFFFFF;\n",
              "    }\n",
              "  </style>\n",
              "\n",
              "      <script>\n",
              "        const buttonEl =\n",
              "          document.querySelector('#df-9b257608-7377-47df-ba80-d5fe004acd86 button.colab-df-convert');\n",
              "        buttonEl.style.display =\n",
              "          google.colab.kernel.accessAllowed ? 'block' : 'none';\n",
              "\n",
              "        async function convertToInteractive(key) {\n",
              "          const element = document.querySelector('#df-9b257608-7377-47df-ba80-d5fe004acd86');\n",
              "          const dataTable =\n",
              "            await google.colab.kernel.invokeFunction('convertToInteractive',\n",
              "                                                     [key], {});\n",
              "          if (!dataTable) return;\n",
              "\n",
              "          const docLinkHtml = 'Like what you see? Visit the ' +\n",
              "            '<a target=\"_blank\" href=https://colab.research.google.com/notebooks/data_table.ipynb>data table notebook</a>'\n",
              "            + ' to learn more about interactive tables.';\n",
              "          element.innerHTML = '';\n",
              "          dataTable['output_type'] = 'display_data';\n",
              "          await google.colab.output.renderOutput(dataTable, element);\n",
              "          const docLink = document.createElement('div');\n",
              "          docLink.innerHTML = docLinkHtml;\n",
              "          element.appendChild(docLink);\n",
              "        }\n",
              "      </script>\n",
              "    </div>\n",
              "  </div>\n",
              "  "
            ],
            "text/plain": [
              "       NumTimesPrg   PlGlcConc      BloodP  ...   DiPedFunc         Age  HasDiabetes\n",
              "count   768.000000  768.000000  768.000000  ...  768.000000  768.000000   768.000000\n",
              "mean      3.845052  120.894531   69.105469  ...    0.471876   33.240885     0.348958\n",
              "std       3.369578   31.972618   19.355807  ...    0.331329   11.760232     0.476951\n",
              "min       0.000000    0.000000    0.000000  ...    0.078000   21.000000     0.000000\n",
              "25%       1.000000   99.000000   62.000000  ...    0.243750   24.000000     0.000000\n",
              "50%       3.000000  117.000000   72.000000  ...    0.372500   29.000000     0.000000\n",
              "75%       6.000000  140.250000   80.000000  ...    0.626250   41.000000     1.000000\n",
              "max      17.000000  199.000000  122.000000  ...    2.420000   81.000000     1.000000\n",
              "\n",
              "[8 rows x 9 columns]"
            ]
          },
          "metadata": {},
          "execution_count": 7
        }
      ]
    },
    {
      "cell_type": "code",
      "source": [
        "df.isna().sum()\n"
      ],
      "metadata": {
        "id": "VOpZYnKeFDox",
        "outputId": "8e8b7341-7ee8-42c9-ceb2-3768957b4da6",
        "colab": {
          "base_uri": "https://localhost:8080/"
        }
      },
      "execution_count": null,
      "outputs": [
        {
          "output_type": "execute_result",
          "data": {
            "text/plain": [
              "NumTimesPrg      0\n",
              "PlGlcConc        0\n",
              "BloodP           0\n",
              "SkinThick        0\n",
              "TwoHourSerIns    0\n",
              "BMI              0\n",
              "DiPedFunc        0\n",
              "Age              0\n",
              "HasDiabetes      0\n",
              "dtype: int64"
            ]
          },
          "metadata": {},
          "execution_count": 8
        }
      ]
    },
    {
      "cell_type": "code",
      "source": [
        "df.isnull().sum() "
      ],
      "metadata": {
        "id": "grA5QkegFJBE",
        "outputId": "f8ba2923-d133-4cc7-ff20-b15da98945ed",
        "colab": {
          "base_uri": "https://localhost:8080/"
        }
      },
      "execution_count": null,
      "outputs": [
        {
          "output_type": "execute_result",
          "data": {
            "text/plain": [
              "NumTimesPrg      0\n",
              "PlGlcConc        0\n",
              "BloodP           0\n",
              "SkinThick        0\n",
              "TwoHourSerIns    0\n",
              "BMI              0\n",
              "DiPedFunc        0\n",
              "Age              0\n",
              "HasDiabetes      0\n",
              "dtype: int64"
            ]
          },
          "metadata": {},
          "execution_count": 9
        }
      ]
    },
    {
      "cell_type": "code",
      "source": [
        "df.dtypes"
      ],
      "metadata": {
        "id": "h_DqfIzvFL3J",
        "outputId": "0fbe3f29-391f-44f4-bc37-1bee88d1d630",
        "colab": {
          "base_uri": "https://localhost:8080/"
        }
      },
      "execution_count": null,
      "outputs": [
        {
          "output_type": "execute_result",
          "data": {
            "text/plain": [
              "NumTimesPrg        int64\n",
              "PlGlcConc          int64\n",
              "BloodP             int64\n",
              "SkinThick          int64\n",
              "TwoHourSerIns      int64\n",
              "BMI              float64\n",
              "DiPedFunc        float64\n",
              "Age                int64\n",
              "HasDiabetes        int64\n",
              "dtype: object"
            ]
          },
          "metadata": {},
          "execution_count": 10
        }
      ]
    },
    {
      "cell_type": "markdown",
      "metadata": {
        "button": false,
        "new_sheet": false,
        "run_control": {
          "read_only": false
        },
        "id": "a02T2r1XM1kY"
      },
      "source": [
        "# Data visualization and pre-processing\n",
        "\n"
      ]
    },
    {
      "cell_type": "markdown",
      "metadata": {
        "button": false,
        "new_sheet": false,
        "run_control": {
          "read_only": false
        },
        "id": "WyisS4NVM1kZ"
      },
      "source": [
        "## Data correlation matrix\n",
        "### 3. Let's calculate the correlation matrix for our dataset.\n",
        "\n",
        "The correlation matrix is an important tool to understand the correlation between the different characteristics. The values range from -1 to 1 and the closer a value is to 1 the better correlation there is between two characteristics. "
      ]
    },
    {
      "cell_type": "code",
      "metadata": {
        "button": false,
        "new_sheet": false,
        "run_control": {
          "read_only": false
        },
        "id": "vymkxfN8M1kZ",
        "colab": {
          "base_uri": "https://localhost:8080/",
          "height": 331
        },
        "outputId": "7e295407-e769-4a8b-9e21-a955a8e71bae"
      },
      "source": [
        "#TO DO:\n",
        "corr = df.corr()\n",
        "corr"
      ],
      "execution_count": 4,
      "outputs": [
        {
          "output_type": "execute_result",
          "data": {
            "text/html": [
              "\n",
              "  <div id=\"df-66d111a4-4d22-4ee1-8b4e-ad9dcc809f3d\">\n",
              "    <div class=\"colab-df-container\">\n",
              "      <div>\n",
              "<style scoped>\n",
              "    .dataframe tbody tr th:only-of-type {\n",
              "        vertical-align: middle;\n",
              "    }\n",
              "\n",
              "    .dataframe tbody tr th {\n",
              "        vertical-align: top;\n",
              "    }\n",
              "\n",
              "    .dataframe thead th {\n",
              "        text-align: right;\n",
              "    }\n",
              "</style>\n",
              "<table border=\"1\" class=\"dataframe\">\n",
              "  <thead>\n",
              "    <tr style=\"text-align: right;\">\n",
              "      <th></th>\n",
              "      <th>NumTimesPrg</th>\n",
              "      <th>PlGlcConc</th>\n",
              "      <th>BloodP</th>\n",
              "      <th>SkinThick</th>\n",
              "      <th>TwoHourSerIns</th>\n",
              "      <th>BMI</th>\n",
              "      <th>DiPedFunc</th>\n",
              "      <th>Age</th>\n",
              "      <th>HasDiabetes</th>\n",
              "    </tr>\n",
              "  </thead>\n",
              "  <tbody>\n",
              "    <tr>\n",
              "      <th>NumTimesPrg</th>\n",
              "      <td>1.000000</td>\n",
              "      <td>0.129459</td>\n",
              "      <td>0.141282</td>\n",
              "      <td>-0.081672</td>\n",
              "      <td>-0.073535</td>\n",
              "      <td>0.017683</td>\n",
              "      <td>-0.033523</td>\n",
              "      <td>0.544341</td>\n",
              "      <td>0.221898</td>\n",
              "    </tr>\n",
              "    <tr>\n",
              "      <th>PlGlcConc</th>\n",
              "      <td>0.129459</td>\n",
              "      <td>1.000000</td>\n",
              "      <td>0.152590</td>\n",
              "      <td>0.057328</td>\n",
              "      <td>0.331357</td>\n",
              "      <td>0.221071</td>\n",
              "      <td>0.137337</td>\n",
              "      <td>0.263514</td>\n",
              "      <td>0.466581</td>\n",
              "    </tr>\n",
              "    <tr>\n",
              "      <th>BloodP</th>\n",
              "      <td>0.141282</td>\n",
              "      <td>0.152590</td>\n",
              "      <td>1.000000</td>\n",
              "      <td>0.207371</td>\n",
              "      <td>0.088933</td>\n",
              "      <td>0.281805</td>\n",
              "      <td>0.041265</td>\n",
              "      <td>0.239528</td>\n",
              "      <td>0.065068</td>\n",
              "    </tr>\n",
              "    <tr>\n",
              "      <th>SkinThick</th>\n",
              "      <td>-0.081672</td>\n",
              "      <td>0.057328</td>\n",
              "      <td>0.207371</td>\n",
              "      <td>1.000000</td>\n",
              "      <td>0.436783</td>\n",
              "      <td>0.392573</td>\n",
              "      <td>0.183928</td>\n",
              "      <td>-0.113970</td>\n",
              "      <td>0.074752</td>\n",
              "    </tr>\n",
              "    <tr>\n",
              "      <th>TwoHourSerIns</th>\n",
              "      <td>-0.073535</td>\n",
              "      <td>0.331357</td>\n",
              "      <td>0.088933</td>\n",
              "      <td>0.436783</td>\n",
              "      <td>1.000000</td>\n",
              "      <td>0.197859</td>\n",
              "      <td>0.185071</td>\n",
              "      <td>-0.042163</td>\n",
              "      <td>0.130548</td>\n",
              "    </tr>\n",
              "    <tr>\n",
              "      <th>BMI</th>\n",
              "      <td>0.017683</td>\n",
              "      <td>0.221071</td>\n",
              "      <td>0.281805</td>\n",
              "      <td>0.392573</td>\n",
              "      <td>0.197859</td>\n",
              "      <td>1.000000</td>\n",
              "      <td>0.140647</td>\n",
              "      <td>0.036242</td>\n",
              "      <td>0.292695</td>\n",
              "    </tr>\n",
              "    <tr>\n",
              "      <th>DiPedFunc</th>\n",
              "      <td>-0.033523</td>\n",
              "      <td>0.137337</td>\n",
              "      <td>0.041265</td>\n",
              "      <td>0.183928</td>\n",
              "      <td>0.185071</td>\n",
              "      <td>0.140647</td>\n",
              "      <td>1.000000</td>\n",
              "      <td>0.033561</td>\n",
              "      <td>0.173844</td>\n",
              "    </tr>\n",
              "    <tr>\n",
              "      <th>Age</th>\n",
              "      <td>0.544341</td>\n",
              "      <td>0.263514</td>\n",
              "      <td>0.239528</td>\n",
              "      <td>-0.113970</td>\n",
              "      <td>-0.042163</td>\n",
              "      <td>0.036242</td>\n",
              "      <td>0.033561</td>\n",
              "      <td>1.000000</td>\n",
              "      <td>0.238356</td>\n",
              "    </tr>\n",
              "    <tr>\n",
              "      <th>HasDiabetes</th>\n",
              "      <td>0.221898</td>\n",
              "      <td>0.466581</td>\n",
              "      <td>0.065068</td>\n",
              "      <td>0.074752</td>\n",
              "      <td>0.130548</td>\n",
              "      <td>0.292695</td>\n",
              "      <td>0.173844</td>\n",
              "      <td>0.238356</td>\n",
              "      <td>1.000000</td>\n",
              "    </tr>\n",
              "  </tbody>\n",
              "</table>\n",
              "</div>\n",
              "      <button class=\"colab-df-convert\" onclick=\"convertToInteractive('df-66d111a4-4d22-4ee1-8b4e-ad9dcc809f3d')\"\n",
              "              title=\"Convert this dataframe to an interactive table.\"\n",
              "              style=\"display:none;\">\n",
              "        \n",
              "  <svg xmlns=\"http://www.w3.org/2000/svg\" height=\"24px\"viewBox=\"0 0 24 24\"\n",
              "       width=\"24px\">\n",
              "    <path d=\"M0 0h24v24H0V0z\" fill=\"none\"/>\n",
              "    <path d=\"M18.56 5.44l.94 2.06.94-2.06 2.06-.94-2.06-.94-.94-2.06-.94 2.06-2.06.94zm-11 1L8.5 8.5l.94-2.06 2.06-.94-2.06-.94L8.5 2.5l-.94 2.06-2.06.94zm10 10l.94 2.06.94-2.06 2.06-.94-2.06-.94-.94-2.06-.94 2.06-2.06.94z\"/><path d=\"M17.41 7.96l-1.37-1.37c-.4-.4-.92-.59-1.43-.59-.52 0-1.04.2-1.43.59L10.3 9.45l-7.72 7.72c-.78.78-.78 2.05 0 2.83L4 21.41c.39.39.9.59 1.41.59.51 0 1.02-.2 1.41-.59l7.78-7.78 2.81-2.81c.8-.78.8-2.07 0-2.86zM5.41 20L4 18.59l7.72-7.72 1.47 1.35L5.41 20z\"/>\n",
              "  </svg>\n",
              "      </button>\n",
              "      \n",
              "  <style>\n",
              "    .colab-df-container {\n",
              "      display:flex;\n",
              "      flex-wrap:wrap;\n",
              "      gap: 12px;\n",
              "    }\n",
              "\n",
              "    .colab-df-convert {\n",
              "      background-color: #E8F0FE;\n",
              "      border: none;\n",
              "      border-radius: 50%;\n",
              "      cursor: pointer;\n",
              "      display: none;\n",
              "      fill: #1967D2;\n",
              "      height: 32px;\n",
              "      padding: 0 0 0 0;\n",
              "      width: 32px;\n",
              "    }\n",
              "\n",
              "    .colab-df-convert:hover {\n",
              "      background-color: #E2EBFA;\n",
              "      box-shadow: 0px 1px 2px rgba(60, 64, 67, 0.3), 0px 1px 3px 1px rgba(60, 64, 67, 0.15);\n",
              "      fill: #174EA6;\n",
              "    }\n",
              "\n",
              "    [theme=dark] .colab-df-convert {\n",
              "      background-color: #3B4455;\n",
              "      fill: #D2E3FC;\n",
              "    }\n",
              "\n",
              "    [theme=dark] .colab-df-convert:hover {\n",
              "      background-color: #434B5C;\n",
              "      box-shadow: 0px 1px 3px 1px rgba(0, 0, 0, 0.15);\n",
              "      filter: drop-shadow(0px 1px 2px rgba(0, 0, 0, 0.3));\n",
              "      fill: #FFFFFF;\n",
              "    }\n",
              "  </style>\n",
              "\n",
              "      <script>\n",
              "        const buttonEl =\n",
              "          document.querySelector('#df-66d111a4-4d22-4ee1-8b4e-ad9dcc809f3d button.colab-df-convert');\n",
              "        buttonEl.style.display =\n",
              "          google.colab.kernel.accessAllowed ? 'block' : 'none';\n",
              "\n",
              "        async function convertToInteractive(key) {\n",
              "          const element = document.querySelector('#df-66d111a4-4d22-4ee1-8b4e-ad9dcc809f3d');\n",
              "          const dataTable =\n",
              "            await google.colab.kernel.invokeFunction('convertToInteractive',\n",
              "                                                     [key], {});\n",
              "          if (!dataTable) return;\n",
              "\n",
              "          const docLinkHtml = 'Like what you see? Visit the ' +\n",
              "            '<a target=\"_blank\" href=https://colab.research.google.com/notebooks/data_table.ipynb>data table notebook</a>'\n",
              "            + ' to learn more about interactive tables.';\n",
              "          element.innerHTML = '';\n",
              "          dataTable['output_type'] = 'display_data';\n",
              "          await google.colab.output.renderOutput(dataTable, element);\n",
              "          const docLink = document.createElement('div');\n",
              "          docLink.innerHTML = docLinkHtml;\n",
              "          element.appendChild(docLink);\n",
              "        }\n",
              "      </script>\n",
              "    </div>\n",
              "  </div>\n",
              "  "
            ],
            "text/plain": [
              "               NumTimesPrg  PlGlcConc  ...       Age  HasDiabetes\n",
              "NumTimesPrg       1.000000   0.129459  ...  0.544341     0.221898\n",
              "PlGlcConc         0.129459   1.000000  ...  0.263514     0.466581\n",
              "BloodP            0.141282   0.152590  ...  0.239528     0.065068\n",
              "SkinThick        -0.081672   0.057328  ... -0.113970     0.074752\n",
              "TwoHourSerIns    -0.073535   0.331357  ... -0.042163     0.130548\n",
              "BMI               0.017683   0.221071  ...  0.036242     0.292695\n",
              "DiPedFunc        -0.033523   0.137337  ...  0.033561     0.173844\n",
              "Age               0.544341   0.263514  ...  1.000000     0.238356\n",
              "HasDiabetes       0.221898   0.466581  ...  0.238356     1.000000\n",
              "\n",
              "[9 rows x 9 columns]"
            ]
          },
          "metadata": {},
          "execution_count": 4
        }
      ]
    },
    {
      "cell_type": "markdown",
      "metadata": {
        "id": "Q0YpKuUBM1kb"
      },
      "source": [
        "### 4. Render the corr matrix using the heatmap in seaborn."
      ]
    },
    {
      "cell_type": "code",
      "metadata": {
        "id": "ll0POqtIM1kc",
        "colab": {
          "base_uri": "https://localhost:8080/",
          "height": 351
        },
        "outputId": "a321c141-9706-4a14-fdef-19f8f2fa99b5"
      },
      "source": [
        "#TO DO:\n",
        "%matplotlib inline\n",
        "sns.heatmap(corr)"
      ],
      "execution_count": 5,
      "outputs": [
        {
          "output_type": "execute_result",
          "data": {
            "text/plain": [
              "<matplotlib.axes._subplots.AxesSubplot at 0x7ff9c9cf6950>"
            ]
          },
          "metadata": {},
          "execution_count": 5
        },
        {
          "output_type": "display_data",
          "data": {
            "image/png": "[encoded data removed]",
            "text/plain": [
              "<Figure size 432x288 with 2 Axes>"
            ]
          },
          "metadata": {
            "needs_background": "light"
          }
        }
      ]
    },
    {
      "cell_type": "markdown",
      "metadata": {
        "id": "r7DgicVOM1ke"
      },
      "source": [
        "### 5. Print out the column which has the biggest corr number with 'HasDiabetes'."
      ]
    },
    {
      "cell_type": "code",
      "source": [
        "np.fill_diagonal(corr.values, np.nan)\n",
        "corr['HasDiabetes'].sort_values(ascending=False)"
      ],
      "metadata": {
        "colab": {
          "base_uri": "https://localhost:8080/"
        },
        "id": "_3ma0cl3xDsT",
        "outputId": "0099e501-2031-4af1-870e-70a821e03ca9"
      },
      "execution_count": 17,
      "outputs": [
        {
          "output_type": "execute_result",
          "data": {
            "text/plain": [
              "PlGlcConc        0.466581\n",
              "BMI              0.292695\n",
              "Age              0.238356\n",
              "NumTimesPrg      0.221898\n",
              "DiPedFunc        0.173844\n",
              "TwoHourSerIns    0.130548\n",
              "SkinThick        0.074752\n",
              "BloodP           0.065068\n",
              "HasDiabetes           NaN\n",
              "Name: HasDiabetes, dtype: float64"
            ]
          },
          "metadata": {},
          "execution_count": 17
        }
      ]
    },
    {
      "cell_type": "markdown",
      "metadata": {
        "id": "gZ5Msu8UM1kg"
      },
      "source": [
        "## Visualize the Dataset\n",
        "Visualizing the data is an important step of the data analysis. With a graphical visualization of the data, we have a better understanding of the various features values distribution: for example, we can understand the average age of the people or the average BMI, etc...\n",
        "\n",
        "We could, of course, limit our inspection to the table visualization, but we could miss important things that may affect our model precision.\n",
        "### 6. Manipulate histogram to represent all data columns in the dataset."
      ]
    },
    {
      "cell_type": "code",
      "metadata": {
        "id": "JC3CILgxM1kh",
        "colab": {
          "base_uri": "https://localhost:8080/",
          "height": 1000
        },
        "outputId": "099b7dee-58e9-45c3-f3a2-cc1ad572a0c0"
      },
      "source": [
        "#TO DO:\n",
        "# nhận thấy các biến dữ liệu trong bài toán là các biến liên tục và có dạng của phân bố chuẩn (normal distribution)\n",
        "for i in df.columns:\n",
        "    x = df[i]\n",
        "    plt.hist(x)\n",
        "    plt.xlabel(' histogram of {}'.format(i))\n",
        "    plt.show()"
      ],
      "execution_count": null,
      "outputs": [
        {
          "output_type": "display_data",
          "data": {
            "image/png": "[encoded data removed]",
            "text/plain": [
              "<Figure size 432x288 with 1 Axes>"
            ]
          },
          "metadata": {
            "needs_background": "light"
          }
        },
        {
          "output_type": "display_data",
          "data": {
            "image/png": "[encoded data removed]",
            "text/plain": [
              "<Figure size 432x288 with 1 Axes>"
            ]
          },
          "metadata": {
            "needs_background": "light"
          }
        },
        {
          "output_type": "display_data",
          "data": {
            "image/png": "[encoded data removed]",
            "text/plain": [
              "<Figure size 432x288 with 1 Axes>"
            ]
          },
          "metadata": {
            "needs_background": "light"
          }
        },
        {
          "output_type": "display_data",
          "data": {
            "image/png": "[encoded data removed]",
            "text/plain": [
              "<Figure size 432x288 with 1 Axes>"
            ]
          },
          "metadata": {
            "needs_background": "light"
          }
        },
        {
          "output_type": "display_data",
          "data": {
            "image/png": "[encoded data removed]",
            "text/plain": [
              "<Figure size 432x288 with 1 Axes>"
            ]
          },
          "metadata": {
            "needs_background": "light"
          }
        },
        {
          "output_type": "display_data",
          "data": {
            "image/png": "[encoded data removed]",
            "text/plain": [
              "<Figure size 432x288 with 1 Axes>"
            ]
          },
          "metadata": {
            "needs_background": "light"
          }
        },
        {
          "output_type": "display_data",
          "data": {
            "image/png": "[encoded data removed]",
            "text/plain": [
              "<Figure size 432x288 with 1 Axes>"
            ]
          },
          "metadata": {
            "needs_background": "light"
          }
        },
        {
          "output_type": "display_data",
          "data": {
            "image/png": "[encoded data removed]",
            "text/plain": [
              "<Figure size 432x288 with 1 Axes>"
            ]
          },
          "metadata": {
            "needs_background": "light"
          }
        },
        {
          "output_type": "display_data",
          "data": {
            "image/png": "[encoded data removed]",
            "text/plain": [
              "<Figure size 432x288 with 1 Axes>"
            ]
          },
          "metadata": {
            "needs_background": "light"
          }
        }
      ]
    },
    {
      "cell_type": "markdown",
      "metadata": {
        "button": false,
        "new_sheet": false,
        "run_control": {
          "read_only": false
        },
        "id": "VYSkabikM1kj"
      },
      "source": [
        "An important thing I notice in the dataset (and that wasn't obvious at the beginning) is the fact that some people have null (zero) values for some of the features: it's not quite possible to have 0 for BMI or the blood pressure.\n",
        "\n",
        "How can we deal with similar values? We will see it later during the data transformation phase."
      ]
    },
    {
      "cell_type": "markdown",
      "metadata": {
        "button": false,
        "new_sheet": false,
        "run_control": {
          "read_only": false
        },
        "id": "si5Fgks4M1kj"
      },
      "source": [
        "## Data cleaning and transformation"
      ]
    },
    {
      "cell_type": "markdown",
      "metadata": {
        "button": false,
        "new_sheet": false,
        "run_control": {
          "read_only": false
        },
        "id": "ZDAqJwOaM1kk"
      },
      "source": [
        "We have noticed from the previous analysis that some patients have missing data for some of the features. Machine learning algorithms don't work very well when the data are missing so we have to find a solution to \"clean\" the data we have.\n",
        "\n",
        "The easiest option could be to eliminate all those patients with null/zero values, but in this way, we would eliminate a lot of important data.\n",
        "\n",
        "Another option is to calculate the median value for a specific column and substitute that value everywhere (in the same column) we have zero or null. Let's see how to apply this second method.\n",
        "\n",
        "### 7. Interpolate missing values on ['BMI', 'BloodP', 'PlGlcConc', 'SkinThick',  'TwoHourSerIns'] using median values or any other way which is effective.\n",
        "\n",
        "We haven't transformed all the columns, because of some values which can make sense to be zero (like \"Number of times pregnant\")."
      ]
    },
    {
      "cell_type": "code",
      "metadata": {
        "button": false,
        "new_sheet": false,
        "run_control": {
          "read_only": false
        },
        "id": "ccZyY2RbM1kk",
        "colab": {
          "base_uri": "https://localhost:8080/",
          "height": 423
        },
        "outputId": "0a09a681-8b16-416a-fd86-06d1cfe2b050"
      },
      "source": [
        "#TO DO:\n",
        "# thay median cho BMI\n",
        "a = df[df['BMI']!=0]\n",
        "b = a['BMI'].median()\n",
        "df['BMI'] = df['BMI'].replace(0, b)\n",
        "# thay median cho BloodP\n",
        "bl = df[df['BloodP']!=0]\n",
        "bl1 = bl['BloodP'].median()\n",
        "df['BloodP'] = df['BloodP'].replace(0,bl1)\n",
        "# thay median cho PLGL\n",
        "pl = df[df['PlGlcConc']!=0]\n",
        "pl1 = pl['PlGlcConc'].median()\n",
        "df['PlGlcConc'] = df['PlGlcConc'].replace(0,pl1)\n",
        "# thay median cho skinthick\n",
        "sk = df[df['SkinThick']!=0]\n",
        "sk1 = pl['SkinThick'].median()\n",
        "df['SkinThick'] = df['SkinThick'].replace(0,sk1)\n",
        "# thay median cho Towhours\n",
        "two = df[df['TwoHourSerIns']!=0]\n",
        "two1 = pl['TwoHourSerIns'].median()\n",
        "df['TwoHourSerIns'] = df['TwoHourSerIns'].replace(0,two1)\n",
        "df\n"
      ],
      "execution_count": null,
      "outputs": [
        {
          "output_type": "execute_result",
          "data": {
            "text/html": [
              "\n",
              "  <div id=\"df-08caea32-ce5d-425e-b9b0-6cb18057cac9\">\n",
              "    <div class=\"colab-df-container\">\n",
              "      <div>\n",
              "<style scoped>\n",
              "    .dataframe tbody tr th:only-of-type {\n",
              "        vertical-align: middle;\n",
              "    }\n",
              "\n",
              "    .dataframe tbody tr th {\n",
              "        vertical-align: top;\n",
              "    }\n",
              "\n",
              "    .dataframe thead th {\n",
              "        text-align: right;\n",
              "    }\n",
              "</style>\n",
              "<table border=\"1\" class=\"dataframe\">\n",
              "  <thead>\n",
              "    <tr style=\"text-align: right;\">\n",
              "      <th></th>\n",
              "      <th>NumTimesPrg</th>\n",
              "      <th>PlGlcConc</th>\n",
              "      <th>BloodP</th>\n",
              "      <th>SkinThick</th>\n",
              "      <th>TwoHourSerIns</th>\n",
              "      <th>BMI</th>\n",
              "      <th>DiPedFunc</th>\n",
              "      <th>Age</th>\n",
              "      <th>HasDiabetes</th>\n",
              "    </tr>\n",
              "  </thead>\n",
              "  <tbody>\n",
              "    <tr>\n",
              "      <th>0</th>\n",
              "      <td>6</td>\n",
              "      <td>148</td>\n",
              "      <td>72</td>\n",
              "      <td>35</td>\n",
              "      <td>36</td>\n",
              "      <td>33.6</td>\n",
              "      <td>0.627</td>\n",
              "      <td>50</td>\n",
              "      <td>1</td>\n",
              "    </tr>\n",
              "    <tr>\n",
              "      <th>1</th>\n",
              "      <td>1</td>\n",
              "      <td>85</td>\n",
              "      <td>66</td>\n",
              "      <td>29</td>\n",
              "      <td>36</td>\n",
              "      <td>26.6</td>\n",
              "      <td>0.351</td>\n",
              "      <td>31</td>\n",
              "      <td>0</td>\n",
              "    </tr>\n",
              "    <tr>\n",
              "      <th>2</th>\n",
              "      <td>8</td>\n",
              "      <td>183</td>\n",
              "      <td>64</td>\n",
              "      <td>23</td>\n",
              "      <td>36</td>\n",
              "      <td>23.3</td>\n",
              "      <td>0.672</td>\n",
              "      <td>32</td>\n",
              "      <td>1</td>\n",
              "    </tr>\n",
              "    <tr>\n",
              "      <th>3</th>\n",
              "      <td>1</td>\n",
              "      <td>89</td>\n",
              "      <td>66</td>\n",
              "      <td>23</td>\n",
              "      <td>94</td>\n",
              "      <td>28.1</td>\n",
              "      <td>0.167</td>\n",
              "      <td>21</td>\n",
              "      <td>0</td>\n",
              "    </tr>\n",
              "    <tr>\n",
              "      <th>4</th>\n",
              "      <td>0</td>\n",
              "      <td>137</td>\n",
              "      <td>40</td>\n",
              "      <td>35</td>\n",
              "      <td>168</td>\n",
              "      <td>43.1</td>\n",
              "      <td>2.288</td>\n",
              "      <td>33</td>\n",
              "      <td>1</td>\n",
              "    </tr>\n",
              "    <tr>\n",
              "      <th>...</th>\n",
              "      <td>...</td>\n",
              "      <td>...</td>\n",
              "      <td>...</td>\n",
              "      <td>...</td>\n",
              "      <td>...</td>\n",
              "      <td>...</td>\n",
              "      <td>...</td>\n",
              "      <td>...</td>\n",
              "      <td>...</td>\n",
              "    </tr>\n",
              "    <tr>\n",
              "      <th>763</th>\n",
              "      <td>10</td>\n",
              "      <td>101</td>\n",
              "      <td>76</td>\n",
              "      <td>48</td>\n",
              "      <td>180</td>\n",
              "      <td>32.9</td>\n",
              "      <td>0.171</td>\n",
              "      <td>63</td>\n",
              "      <td>0</td>\n",
              "    </tr>\n",
              "    <tr>\n",
              "      <th>764</th>\n",
              "      <td>2</td>\n",
              "      <td>122</td>\n",
              "      <td>70</td>\n",
              "      <td>27</td>\n",
              "      <td>36</td>\n",
              "      <td>36.8</td>\n",
              "      <td>0.340</td>\n",
              "      <td>27</td>\n",
              "      <td>0</td>\n",
              "    </tr>\n",
              "    <tr>\n",
              "      <th>765</th>\n",
              "      <td>5</td>\n",
              "      <td>121</td>\n",
              "      <td>72</td>\n",
              "      <td>23</td>\n",
              "      <td>112</td>\n",
              "      <td>26.2</td>\n",
              "      <td>0.245</td>\n",
              "      <td>30</td>\n",
              "      <td>0</td>\n",
              "    </tr>\n",
              "    <tr>\n",
              "      <th>766</th>\n",
              "      <td>1</td>\n",
              "      <td>126</td>\n",
              "      <td>60</td>\n",
              "      <td>23</td>\n",
              "      <td>36</td>\n",
              "      <td>30.1</td>\n",
              "      <td>0.349</td>\n",
              "      <td>47</td>\n",
              "      <td>1</td>\n",
              "    </tr>\n",
              "    <tr>\n",
              "      <th>767</th>\n",
              "      <td>1</td>\n",
              "      <td>93</td>\n",
              "      <td>70</td>\n",
              "      <td>31</td>\n",
              "      <td>36</td>\n",
              "      <td>30.4</td>\n",
              "      <td>0.315</td>\n",
              "      <td>23</td>\n",
              "      <td>0</td>\n",
              "    </tr>\n",
              "  </tbody>\n",
              "</table>\n",
              "<p>768 rows × 9 columns</p>\n",
              "</div>\n",
              "      <button class=\"colab-df-convert\" onclick=\"convertToInteractive('df-08caea32-ce5d-425e-b9b0-6cb18057cac9')\"\n",
              "              title=\"Convert this dataframe to an interactive table.\"\n",
              "              style=\"display:none;\">\n",
              "        \n",
              "  <svg xmlns=\"http://www.w3.org/2000/svg\" height=\"24px\"viewBox=\"0 0 24 24\"\n",
              "       width=\"24px\">\n",
              "    <path d=\"M0 0h24v24H0V0z\" fill=\"none\"/>\n",
              "    <path d=\"M18.56 5.44l.94 2.06.94-2.06 2.06-.94-2.06-.94-.94-2.06-.94 2.06-2.06.94zm-11 1L8.5 8.5l.94-2.06 2.06-.94-2.06-.94L8.5 2.5l-.94 2.06-2.06.94zm10 10l.94 2.06.94-2.06 2.06-.94-2.06-.94-.94-2.06-.94 2.06-2.06.94z\"/><path d=\"M17.41 7.96l-1.37-1.37c-.4-.4-.92-.59-1.43-.59-.52 0-1.04.2-1.43.59L10.3 9.45l-7.72 7.72c-.78.78-.78 2.05 0 2.83L4 21.41c.39.39.9.59 1.41.59.51 0 1.02-.2 1.41-.59l7.78-7.78 2.81-2.81c.8-.78.8-2.07 0-2.86zM5.41 20L4 18.59l7.72-7.72 1.47 1.35L5.41 20z\"/>\n",
              "  </svg>\n",
              "      </button>\n",
              "      \n",
              "  <style>\n",
              "    .colab-df-container {\n",
              "      display:flex;\n",
              "      flex-wrap:wrap;\n",
              "      gap: 12px;\n",
              "    }\n",
              "\n",
              "    .colab-df-convert {\n",
              "      background-color: #E8F0FE;\n",
              "      border: none;\n",
              "      border-radius: 50%;\n",
              "      cursor: pointer;\n",
              "      display: none;\n",
              "      fill: #1967D2;\n",
              "      height: 32px;\n",
              "      padding: 0 0 0 0;\n",
              "      width: 32px;\n",
              "    }\n",
              "\n",
              "    .colab-df-convert:hover {\n",
              "      background-color: #E2EBFA;\n",
              "      box-shadow: 0px 1px 2px rgba(60, 64, 67, 0.3), 0px 1px 3px 1px rgba(60, 64, 67, 0.15);\n",
              "      fill: #174EA6;\n",
              "    }\n",
              "\n",
              "    [theme=dark] .colab-df-convert {\n",
              "      background-color: #3B4455;\n",
              "      fill: #D2E3FC;\n",
              "    }\n",
              "\n",
              "    [theme=dark] .colab-df-convert:hover {\n",
              "      background-color: #434B5C;\n",
              "      box-shadow: 0px 1px 3px 1px rgba(0, 0, 0, 0.15);\n",
              "      filter: drop-shadow(0px 1px 2px rgba(0, 0, 0, 0.3));\n",
              "      fill: #FFFFFF;\n",
              "    }\n",
              "  </style>\n",
              "\n",
              "      <script>\n",
              "        const buttonEl =\n",
              "          document.querySelector('#df-08caea32-ce5d-425e-b9b0-6cb18057cac9 button.colab-df-convert');\n",
              "        buttonEl.style.display =\n",
              "          google.colab.kernel.accessAllowed ? 'block' : 'none';\n",
              "\n",
              "        async function convertToInteractive(key) {\n",
              "          const element = document.querySelector('#df-08caea32-ce5d-425e-b9b0-6cb18057cac9');\n",
              "          const dataTable =\n",
              "            await google.colab.kernel.invokeFunction('convertToInteractive',\n",
              "                                                     [key], {});\n",
              "          if (!dataTable) return;\n",
              "\n",
              "          const docLinkHtml = 'Like what you see? Visit the ' +\n",
              "            '<a target=\"_blank\" href=https://colab.research.google.com/notebooks/data_table.ipynb>data table notebook</a>'\n",
              "            + ' to learn more about interactive tables.';\n",
              "          element.innerHTML = '';\n",
              "          dataTable['output_type'] = 'display_data';\n",
              "          await google.colab.output.renderOutput(dataTable, element);\n",
              "          const docLink = document.createElement('div');\n",
              "          docLink.innerHTML = docLinkHtml;\n",
              "          element.appendChild(docLink);\n",
              "        }\n",
              "      </script>\n",
              "    </div>\n",
              "  </div>\n",
              "  "
            ],
            "text/plain": [
              "     NumTimesPrg  PlGlcConc  BloodP  ...  DiPedFunc  Age  HasDiabetes\n",
              "0              6        148      72  ...      0.627   50            1\n",
              "1              1         85      66  ...      0.351   31            0\n",
              "2              8        183      64  ...      0.672   32            1\n",
              "3              1         89      66  ...      0.167   21            0\n",
              "4              0        137      40  ...      2.288   33            1\n",
              "..           ...        ...     ...  ...        ...  ...          ...\n",
              "763           10        101      76  ...      0.171   63            0\n",
              "764            2        122      70  ...      0.340   27            0\n",
              "765            5        121      72  ...      0.245   30            0\n",
              "766            1        126      60  ...      0.349   47            1\n",
              "767            1         93      70  ...      0.315   23            0\n",
              "\n",
              "[768 rows x 9 columns]"
            ]
          },
          "metadata": {},
          "execution_count": 15
        }
      ]
    },
    {
      "cell_type": "markdown",
      "metadata": {
        "id": "-8h0P-vLM1kl"
      },
      "source": [
        "## Normalize Data "
      ]
    },
    {
      "cell_type": "markdown",
      "metadata": {
        "id": "GNxKYsijM1km"
      },
      "source": [
        "One of the most important data transformations we need to apply is the features scaling. Basically, most of the machine learning algorithms don't work very well if the features have a different set of values. In our case, for example, the Age ranges from 20 to 80 years old, while the number of times a patient has been pregnant ranges from 0 to 17. For this reason, we need to apply a proper transformation.\n",
        "\n",
        "### 8. Execute Data Standardization using data zero mean and unit variance (don't forget to remove ground truth column before scaling)."
      ]
    },
    {
      "cell_type": "code",
      "metadata": {
        "id": "S22D1f6QM1km",
        "colab": {
          "base_uri": "https://localhost:8080/"
        },
        "outputId": "baf5cb0a-ec25-4422-d33b-9c59d76702cc"
      },
      "source": [
        "#TO DO:\n",
        "from sklearn.preprocessing import StandardScaler\n",
        "# lọc các biến\n",
        "X_Scale = df.iloc[:,:-1]\n",
        "# lọc output\n",
        "y_scale = df.iloc[:,-1]\n",
        "# scale data theo mean=0 và phương sai = 1 theo standardscaler \n",
        "#còn Normalization là phương pháp scale dữ liệu từ miền giá trị bất kì sang miền giá trị nằm trong khoảng 0 đến 1, nên theo đầu bài ta chọn\n",
        "# standardscaler\n",
        "scaler = StandardScaler()\n",
        "scaler.fit(X_Scale)\n",
        "df_scale = scaler.transform(X_Scale)\n",
        "df_scale"
      ],
      "execution_count": null,
      "outputs": [
        {
          "output_type": "execute_result",
          "data": {
            "text/plain": [
              "array([[ 0.63994726,  0.86604475, -0.03198993, ...,  0.16661938,\n",
              "         0.46849198,  1.4259954 ],\n",
              "       [-0.84488505, -1.20506583, -0.5283186 , ..., -0.85219976,\n",
              "        -0.36506078, -0.19067191],\n",
              "       [ 1.23388019,  2.01666174, -0.69376149, ..., -1.33250021,\n",
              "         0.60439732, -0.10558415],\n",
              "       ...,\n",
              "       [ 0.3429808 , -0.02157407, -0.03198993, ..., -0.910418  ,\n",
              "        -0.68519336, -0.27575966],\n",
              "       [-0.84488505,  0.14279979, -1.02464727, ..., -0.34279019,\n",
              "        -0.37110101,  1.17073215],\n",
              "       [-0.84488505, -0.94206766, -0.19743282, ..., -0.29912651,\n",
              "        -0.47378505, -0.87137393]])"
            ]
          },
          "metadata": {},
          "execution_count": 16
        }
      ]
    },
    {
      "cell_type": "markdown",
      "metadata": {
        "button": false,
        "new_sheet": false,
        "run_control": {
          "read_only": false
        },
        "id": "oOHQu_2rM1ko"
      },
      "source": [
        "# Splitting the Dataset"
      ]
    },
    {
      "cell_type": "markdown",
      "metadata": {
        "id": "luDui2xtM1ko"
      },
      "source": [
        "Now that we have transformed the data, we need to split the dataset into two parts: a training dataset and a test dataset. Splitting the dataset is a very important step for supervised machine learning models. Basically, we are going to use the first part to train the model (ignoring the column with the pre-assigned label), then we use the trained model to make predictions on new data (which is the test dataset, not part of the training set) and compare the predicted value with the pre-assigned label.\n",
        "\n",
        "### 9. Split the dataset into 80/20 using the stratified technique and random_state=7."
      ]
    },
    {
      "cell_type": "code",
      "metadata": {
        "id": "Xfh4QK1oM1kp",
        "colab": {
          "base_uri": "https://localhost:8080/"
        },
        "outputId": "db1c120f-4e26-4b62-f8fe-bf62ad1e4408"
      },
      "source": [
        "#TO DO:\n",
        "# tách data theo data_scaler\n",
        "from sklearn.model_selection import train_test_split\n",
        "X_train, X_test, y_train, y_test = train_test_split(df_scale, y_scale, test_size= 0.2, random_state=7)\n",
        "print(X_train.shape, y_train.shape, X_test.shape, y_test.shape)"
      ],
      "execution_count": null,
      "outputs": [
        {
          "output_type": "stream",
          "name": "stdout",
          "text": [
            "(614, 8) (614,) (154, 8) (154,)\n"
          ]
        }
      ]
    },
    {
      "cell_type": "markdown",
      "metadata": {
        "id": "Yk3Y6qVtM1kq"
      },
      "source": [
        "# Additional Question: \n",
        "### Why should we perform data normalization and data splitting before the training step?\n",
        "Type your answer in the cell bellow as the markdown format."
      ]
    },
    {
      "cell_type": "markdown",
      "metadata": {
        "id": "2yXSkeUjM1kr"
      },
      "source": [
        "*italicized text*### TO DO:\n",
        "1. Chúng ta cần data normalization vì để giảm đi sự chênh lệnh giá trị giữa các feature khi tính toán. Ví dụ giá trị tuôi từ 20-80, còn pregnant ranges 0 đến 17\n",
        "2. split data trước khi train vì lấy 1 phần data để đánh giá xem model có hiệu quả không bằng cách chia data lam 2 pần train và test"
      ]
    },
    {
      "cell_type": "markdown",
      "metadata": {
        "id": "6PaVBEAwM1ks"
      },
      "source": [
        "### 10. Print out the proportion of positive/total women who have diabetes on the full dataset, training dataset, and testing dataset."
      ]
    },
    {
      "cell_type": "code",
      "metadata": {
        "id": "36nXnB7cM1ku",
        "colab": {
          "base_uri": "https://localhost:8080/"
        },
        "outputId": "7f9e8500-fbce-4d38-bd4f-80355f92f879"
      },
      "source": [
        "#TO DO:\n",
        "# calculate full_dataset\n",
        "rate_full_dataset = len(df[df['HasDiabetes']==1])/len(df['HasDiabetes'])\n",
        "# calculate rate_train\n",
        "rate_train_data = pd.DataFrame(y_train)\n",
        "positive_train = rate_train_data[rate_train_data['HasDiabetes']==1]\n",
        "rate_train = len(positive_train)/len(rate_train_data)\n",
        "# calculate rate_test\n",
        "rate_test_data = pd.DataFrame(y_test)\n",
        "positive_test = rate_test_data[rate_test_data['HasDiabetes']==1]\n",
        "rate_test = len(positive_test)/len(rate_test_data)\n",
        "rate_full_dataset, rate_train, rate_test"
      ],
      "execution_count": null,
      "outputs": [
        {
          "output_type": "execute_result",
          "data": {
            "text/plain": [
              "(0.3489583333333333, 0.34364820846905536, 0.37012987012987014)"
            ]
          },
          "metadata": {},
          "execution_count": 18
        }
      ]
    },
    {
      "cell_type": "markdown",
      "metadata": {
        "button": false,
        "new_sheet": false,
        "run_control": {
          "read_only": false
        },
        "id": "KHXGaCazM1k0"
      },
      "source": [
        "# Classification "
      ]
    },
    {
      "cell_type": "markdown",
      "metadata": {
        "button": false,
        "new_sheet": false,
        "run_control": {
          "read_only": false
        },
        "id": "Q-NwUyDVM1k0"
      },
      "source": [
        "Now, it is your turn, use the training set to build an accurate model. Then use the test set to report the accuracy of the model.\n",
        "\n",
        "You should use the following algorithms:\n",
        "- K Nearest Neighbor(KNN)\n",
        "- Decision Tree\n",
        "- Support Vector Machine\n",
        "- Logistic Regression\n",
        "- Soft voting\n",
        "- Hard voting\n",
        "\n",
        "\n",
        "\n",
        "**__ Notes:__**\n",
        "\n",
        "- You must try to **FINE TUNE AT LEAST 3 PARAMETERS** on each algorithm, except on soft voting and hard voting.\n",
        "- You can go above and change the pre-processing, feature selection, feature extraction, and so on, to make a better model.\n",
        "- You should use either scikit-learn, Scipy or Numpy libraries for developing the classification algorithms.\n",
        "- You should include the code of the algorithm in the following cells."
      ]
    },
    {
      "cell_type": "markdown",
      "metadata": {
        "id": "c8HKeDu9M1k1"
      },
      "source": [
        "# Import Evaluation Metrices"
      ]
    },
    {
      "cell_type": "code",
      "metadata": {
        "id": "sZrg6rrsM1k1"
      },
      "source": [
        "from sklearn.metrics import  f1_score\n",
        "from sklearn.metrics import jaccard_score\n",
        "from sklearn.neighbors import KNeighborsClassifier\n",
        "from sklearn.model_selection import GridSearchCV\n",
        "from sklearn.metrics import accuracy_score\n",
        "from sklearn import metrics"
      ],
      "execution_count": null,
      "outputs": []
    },
    {
      "cell_type": "code",
      "metadata": {
        "id": "TBXdCSP-M1k3"
      },
      "source": [
        "# a dictionary for keeping all scores of the classifiers\n",
        "f1_scores = {'train':{'KNN': 0, 'DT': 0, 'SVM': 0, 'LR': 0, 'EN_HARD': 0, 'EN_SOFT': 0},\n",
        "             'test':{'KNN': 0, 'DT': 0, 'SVM': 0, 'LR': 0, 'EN_HARD': 0, 'EN_SOFT': 0}}\n",
        "jaccard_scores = {'train':{'KNN': 0, 'DT': 0, 'SVM': 0, 'LR': 0, 'EN_HARD': 0, 'EN_SOFT': 0}, \n",
        "                  'test':{'KNN': 0, 'DT': 0, 'SVM': 0, 'LR': 0, 'EN_HARD': 0, 'EN_SOFT': 0}}\n"
      ],
      "execution_count": null,
      "outputs": []
    },
    {
      "cell_type": "markdown",
      "metadata": {
        "id": "ntwqYDm7M1k6"
      },
      "source": [
        "# K Nearest Neighbor(KNN)\n",
        "### 11. Finetune at least 3 parameters to get the KNN model with best accuracy. Then, print out the KNN model's parameters with the best accuracy(best estimator).\n",
        "Hint: Using GridSearchCV in sklearn.model_selection.\n",
        "\n",
        "**Warning:** You should not use the test data for finding the best parameters."
      ]
    },
    {
      "cell_type": "code",
      "source": [
        "k_grid = GridSearchCV(estimator= KNeighborsClassifier(),param_grid= {'n_neighbors': np.arange(1,50)},cv=5)\n",
        "k_grid.fit(X_train,y_train)\n",
        "k_grid.best_params_"
      ],
      "metadata": {
        "colab": {
          "base_uri": "https://localhost:8080/"
        },
        "id": "a6nDBEVeWtad",
        "outputId": "1a7bd0b2-0671-4d55-cd14-9c2f83a8048f"
      },
      "execution_count": null,
      "outputs": [
        {
          "output_type": "execute_result",
          "data": {
            "text/plain": [
              "{'n_neighbors': 26}"
            ]
          },
          "metadata": {},
          "execution_count": 21
        }
      ]
    },
    {
      "cell_type": "code",
      "metadata": {
        "id": "Xw2vbHFKM1k9",
        "colab": {
          "base_uri": "https://localhost:8080/"
        },
        "outputId": "368645d6-2088-4980-aab5-78167dd29a42"
      },
      "source": [
        "#TO DO:\n",
        "# dùng chuẩn 2 và weights = distabce để thể hiện sự ưu tiên hơn cho các điểm ở gần\n",
        "knn = KNeighborsClassifier(n_neighbors = 26, p=2, weights = 'distance')\n",
        "knn.fit(X_train,y_train) "
      ],
      "execution_count": null,
      "outputs": [
        {
          "output_type": "execute_result",
          "data": {
            "text/plain": [
              "KNeighborsClassifier(n_neighbors=26, weights='distance')"
            ]
          },
          "metadata": {},
          "execution_count": 22
        }
      ]
    },
    {
      "cell_type": "markdown",
      "metadata": {
        "id": "QLvhv6JrM1lA"
      },
      "source": [
        "# Additional Question: \n",
        "### Interpret and explain the parameters you have chosen to fine tune in KNN algorithm.\n",
        "Type your answer in the cell bellow as markdown format.\n",
        "1. n-neighbors = 26 đây là số điểm lân cận với khoảng cách gần nhất được tối ưu dựa trên Gridsearch.\n",
        "2. p=2 thể hiện tính khoảng cách theo chuẩn 2 norm\n",
        "3. weights = 'distance' là việc đánh trọng số lớn hơn cho các điểm ở gần điểm kiểm thử hơn, còn mặc định là uniform là các điểm có sự ảnh hưởng như nhau."
      ]
    },
    {
      "cell_type": "markdown",
      "metadata": {
        "id": "GsPgXPEpM1lB"
      },
      "source": [
        "### 12. Run the prediction on KNN models on training data and test data, then calculate the f1 score and Jaccard similarity score and save it to f1_scores dict and jaccard_scores dict.  \n",
        "**Requirement**: F1 score on test data must be higher than **0.6**, Jaccard similarity score must be higher than **0.75**."
      ]
    },
    {
      "cell_type": "code",
      "metadata": {
        "id": "GxclqWk1M1lB",
        "colab": {
          "base_uri": "https://localhost:8080/"
        },
        "outputId": "3d16cf33-c8cc-4d18-eb74-2ad8b605c038"
      },
      "source": [
        "#TO DO:\n",
        "y_pred_train = knn.predict(X_train)\n",
        "y_pred = knn.predict(X_test)\n",
        "\n",
        "f1_knn_train = f1_score(y_train,y_pred_train)\n",
        "j_knn_train = accuracy_score(y_train,y_pred_train)\n",
        "\n",
        "f1_knn_test = metrics.f1_score(y_test,y_pred)\n",
        "j_knn_test = metrics.accuracy_score(y_test,y_pred)\n",
        "\n",
        "f1_knn_train,f1_knn_test, j_knn_train, j_knn_test"
      ],
      "execution_count": null,
      "outputs": [
        {
          "output_type": "execute_result",
          "data": {
            "text/plain": [
              "(1.0, 0.6666666666666666, 1.0, 0.7922077922077922)"
            ]
          },
          "metadata": {},
          "execution_count": 23
        }
      ]
    },
    {
      "cell_type": "code",
      "source": [
        "f1_scores['test']['KNN']= round(f1_knn_test,4)\n",
        "jaccard_scores['test']['KNN'] = round(j_knn_test,4)\n",
        "\n",
        "f1_scores['train']['KNN'] = round(f1_knn_train,4)\n",
        "jaccard_scores['train']['KNN'] = round(j_knn_train,4)\n",
        "\n",
        "f1_scores, jaccard_scores"
      ],
      "metadata": {
        "colab": {
          "base_uri": "https://localhost:8080/"
        },
        "id": "EFy18zQKXZJ0",
        "outputId": "3af0f32e-e786-48e9-ed21-79c6ff15f190"
      },
      "execution_count": null,
      "outputs": [
        {
          "output_type": "execute_result",
          "data": {
            "text/plain": [
              "({'test': {'DT': 0,\n",
              "   'EN_HARD': 0,\n",
              "   'EN_SOFT': 0,\n",
              "   'KNN': 0.6667,\n",
              "   'LR': 0,\n",
              "   'SVM': 0},\n",
              "  'train': {'DT': 0,\n",
              "   'EN_HARD': 0,\n",
              "   'EN_SOFT': 0,\n",
              "   'KNN': 1.0,\n",
              "   'LR': 0,\n",
              "   'SVM': 0}},\n",
              " {'test': {'DT': 0,\n",
              "   'EN_HARD': 0,\n",
              "   'EN_SOFT': 0,\n",
              "   'KNN': 0.7922,\n",
              "   'LR': 0,\n",
              "   'SVM': 0},\n",
              "  'train': {'DT': 0,\n",
              "   'EN_HARD': 0,\n",
              "   'EN_SOFT': 0,\n",
              "   'KNN': 1.0,\n",
              "   'LR': 0,\n",
              "   'SVM': 0}})"
            ]
          },
          "metadata": {},
          "execution_count": 24
        }
      ]
    },
    {
      "cell_type": "markdown",
      "metadata": {
        "id": "NXIl2GGLM1lE"
      },
      "source": [
        "# Decision Tree"
      ]
    },
    {
      "cell_type": "markdown",
      "metadata": {
        "id": "kW11u1k6M1lF"
      },
      "source": [
        "### 13, 14. Perform task 11 and 12 on the DT model.\n",
        "\n",
        "Hint: Using GridSearchCV in sklearn.model_selection.\n",
        "\n",
        "**Warning**: You should not use the test data for finding the best parameters.\n",
        "\n",
        "**Requirement**: F1 score on test data has to higher than **0.6**, the Jaccard similarity score must be higher than **0.73**."
      ]
    },
    {
      "cell_type": "code",
      "metadata": {
        "id": "CnE8pvjvM1lG"
      },
      "source": [
        "import graphviz\n",
        "from sklearn.pipeline import Pipeline\n",
        "from sklearn.tree import DecisionTreeClassifier\n",
        "from sklearn.model_selection import GridSearchCV"
      ],
      "execution_count": null,
      "outputs": []
    },
    {
      "cell_type": "code",
      "source": [
        "DT = DecisionTreeClassifier(criterion='entropy',splitter='best', max_depth=None, min_samples_split=2, min_samples_leaf=1, max_features=None,max_leaf_nodes=None, \n",
        "min_impurity_decrease=0.0)\n",
        "DT.fit(X_train,y_train)"
      ],
      "metadata": {
        "colab": {
          "base_uri": "https://localhost:8080/"
        },
        "id": "wv6Kw2SI8yvh",
        "outputId": "b458d733-9bbf-4f0e-ca38-a53a947f19af"
      },
      "execution_count": null,
      "outputs": [
        {
          "output_type": "execute_result",
          "data": {
            "text/plain": [
              "DecisionTreeClassifier(criterion='entropy')"
            ]
          },
          "metadata": {},
          "execution_count": 26
        }
      ]
    },
    {
      "cell_type": "code",
      "source": [
        "y_tree_test = DT.predict(X_test)\n",
        "y_tree_train = DT.predict(X_train)\n",
        "\n",
        "f1_tree_train = f1_score(y_train,y_tree_train)\n",
        "j_tree_train = accuracy_score(y_train,y_tree_train)\n",
        "\n",
        "f1_tree_test = metrics.f1_score(y_test,y_tree_test)\n",
        "j_tree_test = metrics.accuracy_score(y_test,y_tree_test)\n",
        "\n",
        "f1_tree_train, f1_tree_test, j_tree_train, j_tree_test"
      ],
      "metadata": {
        "colab": {
          "base_uri": "https://localhost:8080/"
        },
        "id": "uZNtTLuq-EVh",
        "outputId": "cbe02286-41c8-420e-9098-a81a8af7086c"
      },
      "execution_count": null,
      "outputs": [
        {
          "output_type": "execute_result",
          "data": {
            "text/plain": [
              "(1.0, 0.6034482758620691, 1.0, 0.7012987012987013)"
            ]
          },
          "metadata": {},
          "execution_count": 27
        }
      ]
    },
    {
      "cell_type": "code",
      "source": [
        "f1_scores['test']['DT']= round(f1_tree_test,4)\n",
        "jaccard_scores['test']['DT'] = round(j_tree_test,4)\n",
        "\n",
        "f1_scores['train']['DT']= round(f1_tree_train,4)\n",
        "jaccard_scores['train']['DT'] = round(j_tree_train,4)\n",
        "\n",
        "f1_scores, jaccard_scores"
      ],
      "metadata": {
        "id": "SdsIS5VtzHBE",
        "colab": {
          "base_uri": "https://localhost:8080/"
        },
        "outputId": "a01e2d8d-87ba-43a6-c8fc-14ee71596262"
      },
      "execution_count": null,
      "outputs": [
        {
          "output_type": "execute_result",
          "data": {
            "text/plain": [
              "({'test': {'DT': 0.6034,\n",
              "   'EN_HARD': 0,\n",
              "   'EN_SOFT': 0,\n",
              "   'KNN': 0.6667,\n",
              "   'LR': 0,\n",
              "   'SVM': 0},\n",
              "  'train': {'DT': 1.0,\n",
              "   'EN_HARD': 0,\n",
              "   'EN_SOFT': 0,\n",
              "   'KNN': 1.0,\n",
              "   'LR': 0,\n",
              "   'SVM': 0}},\n",
              " {'test': {'DT': 0.7013,\n",
              "   'EN_HARD': 0,\n",
              "   'EN_SOFT': 0,\n",
              "   'KNN': 0.7922,\n",
              "   'LR': 0,\n",
              "   'SVM': 0},\n",
              "  'train': {'DT': 1.0,\n",
              "   'EN_HARD': 0,\n",
              "   'EN_SOFT': 0,\n",
              "   'KNN': 1.0,\n",
              "   'LR': 0,\n",
              "   'SVM': 0}})"
            ]
          },
          "metadata": {},
          "execution_count": 28
        }
      ]
    },
    {
      "cell_type": "markdown",
      "metadata": {
        "id": "0ZjQch2RM1lL"
      },
      "source": [
        "# Additional Question: \n",
        "### Interpret and explain the parameters you have chosen to fine tune in DT algorithm.\n",
        "Type your answer in the cell bellow as the markdown format."
      ]
    },
    {
      "cell_type": "markdown",
      "metadata": {
        "id": "g4aBT64WM1lL"
      },
      "source": [
        "### TO DO:\n"
      ]
    },
    {
      "cell_type": "code",
      "metadata": {
        "id": "5j2yBhnrM1lM"
      },
      "source": [
        "#TO DO:\n",
        "1. criterion: Lựa chọn entropy vì các biến trên là liên tục\n",
        "2. max_depth: Độ sâu tối đa cho một cây quyết định. Đối với mô hình bị quá khớp thì chúng ta cần giảm độ sâu và vị khớp thì gia tăng độ sâu.\n",
        "3. min_samples_split: Kích thước mẫu tối thiểu được yêu cầu để tiếp tục phân chia đối với node quyết định.\n",
        "   Được sử dụng để tránh kích thước của node lá quá nhỏ nhằm giảm thiểu hiện tượng quá khớp.\n",
        "4. max_features: Số lượng các biến được lựa chọn để tìm kiếm ra biến phân chia tốt nhất ở mỗi lượt phân chia.\n",
        "5. max_leaf_nodes: Số lượng các node lá tối đa của cây quyết định. Thường được thiết lập khi muốn kiểm soát hiện tượng quá khớp.\n",
        "6.min_impurity_decrease: Chúng ta sẽ tiếp tục phân chia một node nếu như sự suy giảm của độ tinh khiết nếu phân chia lớn hơn ngưỡng này."
      ],
      "execution_count": null,
      "outputs": []
    },
    {
      "cell_type": "markdown",
      "metadata": {
        "id": "nd4a59C6M1lQ"
      },
      "source": [
        "# Support Vector Machine"
      ]
    },
    {
      "cell_type": "markdown",
      "metadata": {
        "id": "sn_wfdWpM1lR"
      },
      "source": [
        "### 15, 16. Perform task 11 and 12 on SVM models.\n",
        "\n",
        "Hint: Using GridSearchCV in sklearn.model_selection.\n",
        "\n",
        "**Warning**: You should not use the test data for finding the best parameters.\n",
        "\n",
        "**Requirement**: F1 score on test data has to higher than **0.62**, Jaccard similarity score must be higher than **0.75**."
      ]
    },
    {
      "cell_type": "code",
      "metadata": {
        "id": "WUwo79EMM1lR"
      },
      "source": [
        "from sklearn.svm import SVC"
      ],
      "execution_count": null,
      "outputs": []
    },
    {
      "cell_type": "code",
      "metadata": {
        "id": "JMxZtQa8M1lT",
        "colab": {
          "base_uri": "https://localhost:8080/"
        },
        "outputId": "f4ef0a4b-701f-4af1-dc97-fae2787bb139"
      },
      "source": [
        "#TO DO:\n",
        "model_svc = SVC(kernel='linear', C=0.05,decision_function_shape='ovr')\n",
        "model_svc.fit(X_train,y_train)\n",
        "\n",
        "y_pred_svm = model_svc.predict(X_test)\n",
        "\n",
        "f1_svm_test = metrics.f1_score(y_test,y_pred_svm)\n",
        "jaccard_svm_test = metrics.accuracy_score(y_test,y_pred_svm)\n",
        "\n",
        "f1_svm_test , jaccard_svm_test"
      ],
      "execution_count": null,
      "outputs": [
        {
          "output_type": "execute_result",
          "data": {
            "text/plain": [
              "(0.6391752577319588, 0.7727272727272727)"
            ]
          },
          "metadata": {},
          "execution_count": 30
        }
      ]
    },
    {
      "cell_type": "code",
      "source": [
        "model1 = SVC(kernel='rbf', C=1.2,decision_function_shape='ovr')\n",
        "model1.fit(X_train,y_train)\n",
        "\n",
        "y_svm1_test = model1.predict(X_test)\n",
        "y_svm1_train = model1.predict(X_train)\n",
        "\n",
        "f1_svm1_train = metrics.f1_score(y_train,y_svm1_train)\n",
        "j_svm1_train = metrics.accuracy_score(y_train,y_svm1_train)\n",
        "\n",
        "f1_svm1_test = metrics.f1_score(y_test,y_svm1_test)\n",
        "j_svm1_test = metrics.accuracy_score(y_test,y_svm1_test)\n",
        "\n",
        "f1_svm1_train, f1_svm1_test, j_svm1_train, j_svm1_test"
      ],
      "metadata": {
        "colab": {
          "base_uri": "https://localhost:8080/"
        },
        "id": "fdXosDohbcYJ",
        "outputId": "a705d5ec-492f-4b3a-f3d1-13e4c49ca66f"
      },
      "execution_count": null,
      "outputs": [
        {
          "output_type": "execute_result",
          "data": {
            "text/plain": [
              "(0.7093333333333334,\n",
              " 0.7326732673267327,\n",
              " 0.8224755700325733,\n",
              " 0.8246753246753247)"
            ]
          },
          "metadata": {},
          "execution_count": 31
        }
      ]
    },
    {
      "cell_type": "code",
      "source": [
        "model2 = SVC(kernel='poly', C=1,decision_function_shape='ovr')\n",
        "model2.fit(X_train,y_train)\n",
        "\n",
        "y_svm2 = model2.predict(X_test)\n",
        "\n",
        "f1_svm2 = metrics.f1_score(y_test,y_svm2)\n",
        "j_svm2 = metrics.accuracy_score(y_test,y_svm2)\n",
        "\n",
        "f1_svm2 , j_svm2"
      ],
      "metadata": {
        "colab": {
          "base_uri": "https://localhost:8080/"
        },
        "id": "4_9040MWcRNp",
        "outputId": "bf7f691f-8c87-4c2a-f142-c5dc0fdd18ef"
      },
      "execution_count": null,
      "outputs": [
        {
          "output_type": "execute_result",
          "data": {
            "text/plain": [
              "(0.5476190476190477, 0.7532467532467533)"
            ]
          },
          "metadata": {},
          "execution_count": 32
        }
      ]
    },
    {
      "cell_type": "code",
      "source": [
        "model3 = SVC(kernel='sigmoid', C=0.05,decision_function_shape='ovr')\n",
        "model3.fit(X_train,y_train)\n",
        "\n",
        "y_svm3 = model3.predict(X_test)\n",
        "\n",
        "f1_svm3 = metrics.f1_score(y_test,y_svm3)\n",
        "j_svm3 = metrics.accuracy_score(y_test,y_svm3)\n",
        "\n",
        "f1_svm3 , j_svm3"
      ],
      "metadata": {
        "colab": {
          "base_uri": "https://localhost:8080/"
        },
        "id": "MVbZjyWbczoy",
        "outputId": "6aa4be67-cbf5-411c-8579-863544a3fb4e"
      },
      "execution_count": null,
      "outputs": [
        {
          "output_type": "execute_result",
          "data": {
            "text/plain": [
              "(0.6464646464646465, 0.7727272727272727)"
            ]
          },
          "metadata": {},
          "execution_count": 33
        }
      ]
    },
    {
      "cell_type": "code",
      "source": [
        "f1_scores['test']['SVM']= round(f1_svm1_test,4)\n",
        "jaccard_scores['test']['SVM'] = round(j_svm1_test,4)\n",
        "\n",
        "f1_scores['train']['SVM']= round(f1_svm1_train,4)\n",
        "jaccard_scores['train']['SVM'] = round(j_svm1_train,4)\n",
        "\n",
        "f1_scores, jaccard_scores"
      ],
      "metadata": {
        "colab": {
          "base_uri": "https://localhost:8080/"
        },
        "id": "KJcdYww9I1Iz",
        "outputId": "a3730b71-d878-4ec6-c3d8-0594b936d343"
      },
      "execution_count": null,
      "outputs": [
        {
          "output_type": "execute_result",
          "data": {
            "text/plain": [
              "({'test': {'DT': 0.6034,\n",
              "   'EN_HARD': 0,\n",
              "   'EN_SOFT': 0,\n",
              "   'KNN': 0.6667,\n",
              "   'LR': 0,\n",
              "   'SVM': 0.7327},\n",
              "  'train': {'DT': 1.0,\n",
              "   'EN_HARD': 0,\n",
              "   'EN_SOFT': 0,\n",
              "   'KNN': 1.0,\n",
              "   'LR': 0,\n",
              "   'SVM': 0.7093}},\n",
              " {'test': {'DT': 0.7013,\n",
              "   'EN_HARD': 0,\n",
              "   'EN_SOFT': 0,\n",
              "   'KNN': 0.7922,\n",
              "   'LR': 0,\n",
              "   'SVM': 0.8247},\n",
              "  'train': {'DT': 1.0,\n",
              "   'EN_HARD': 0,\n",
              "   'EN_SOFT': 0,\n",
              "   'KNN': 1.0,\n",
              "   'LR': 0,\n",
              "   'SVM': 0.8225}})"
            ]
          },
          "metadata": {},
          "execution_count": 34
        }
      ]
    },
    {
      "cell_type": "markdown",
      "metadata": {
        "id": "03XgTdoPM1lW"
      },
      "source": [
        "# Additional Question: \n",
        "### Interpret and explain the parameters you have chosen to fine tune in SVM algorithm.\n",
        "Type your answer in the cell bellow as the markdown format."
      ]
    },
    {
      "cell_type": "markdown",
      "metadata": {
        "id": "wz0N8-CIM1lW"
      },
      "source": [
        "### TO DO:\n"
      ]
    },
    {
      "cell_type": "code",
      "metadata": {
        "id": "z0eWOaUaM1lX"
      },
      "source": [
        "#TO DO:\n",
        "1. decision_function_shape = 'ovr' .Đối với bài toán phân loại nhị phân thì chon 'ovr'(one vs rest) tương ứng với dự báo xác suất tương ứng với nhãn(0,1)\n",
        "2. C=1 thể hiện ảnh hưởng của sai số phân loại lên hàm mất mát\n",
        "3. kernel='rbf' chonj vi co ket qua tot nhat"
      ],
      "execution_count": null,
      "outputs": []
    },
    {
      "cell_type": "markdown",
      "metadata": {
        "id": "xRVAKHEkM1la"
      },
      "source": [
        "# Logistic Regression"
      ]
    },
    {
      "cell_type": "markdown",
      "metadata": {
        "id": "nTQkBQIXM1la"
      },
      "source": [
        "### 17, 18. Perform task 11 and 12 on Logistic Regression model.\n",
        "\n",
        "Hint: Using GridSearchCV in sklearn.model_selection.\n",
        "\n",
        "**Warning**: You should not use the test data for finding the best parameters.\n",
        "\n",
        "**Requirement**: F1 score on test data has to higher than **0.63**, Jaccard similarity score must be higher than **0.75**."
      ]
    },
    {
      "cell_type": "code",
      "metadata": {
        "id": "cWFYayQLM1lb"
      },
      "source": [
        "from sklearn.linear_model import LogisticRegression"
      ],
      "execution_count": null,
      "outputs": []
    },
    {
      "cell_type": "code",
      "metadata": {
        "id": "7szXdAHTM1lc",
        "colab": {
          "base_uri": "https://localhost:8080/"
        },
        "outputId": "f328c978-02bb-4cd7-ce69-275817e4272e"
      },
      "source": [
        "#TO DO:\n",
        "model_logistic = LogisticRegression(penalty='l2',tol=0.0001, C=1.0, fit_intercept=False, class_weight=None, solver='lbfgs', max_iter=100)\n",
        "model_logistic.fit(X_train, y_train)\n",
        "\n",
        "y_log_test = model_logistic.predict(X_test)\n",
        "y_log_train = model_logistic.predict(X_train)\n",
        "\n",
        "f1_log_test = metrics.f1_score(y_test,y_log_test)\n",
        "j_log_test = metrics.accuracy_score(y_test,y_log_test)\n",
        "\n",
        "f1_log_train = metrics.f1_score(y_train,y_log_train)\n",
        "j_log_train = metrics.accuracy_score(y_train,y_log_train)\n",
        "\n",
        "f1_log_train, f1_log_test, j_log_train, j_log_test"
      ],
      "execution_count": null,
      "outputs": [
        {
          "output_type": "execute_result",
          "data": {
            "text/plain": [
              "(0.6735112936344969, 0.7175572519083969, 0.741042345276873, 0.7597402597402597)"
            ]
          },
          "metadata": {},
          "execution_count": 36
        }
      ]
    },
    {
      "cell_type": "code",
      "source": [
        "f1_scores['train']['LR']= round(f1_log_train,4)\n",
        "jaccard_scores['train']['LR'] = round(j_log_train,4)\n",
        "\n",
        "f1_scores['test']['LR']= round(f1_log_test,4)\n",
        "jaccard_scores['test']['LR'] = round(j_log_test,4)\n",
        "f1_scores, jaccard_scores"
      ],
      "metadata": {
        "colab": {
          "base_uri": "https://localhost:8080/"
        },
        "id": "ycHokX90uae9",
        "outputId": "6e74fa1f-6119-429a-e19b-1ef4c1865580"
      },
      "execution_count": null,
      "outputs": [
        {
          "output_type": "execute_result",
          "data": {
            "text/plain": [
              "({'test': {'DT': 0.6034,\n",
              "   'EN_HARD': 0,\n",
              "   'EN_SOFT': 0,\n",
              "   'KNN': 0.6667,\n",
              "   'LR': 0.7176,\n",
              "   'SVM': 0.7327},\n",
              "  'train': {'DT': 1.0,\n",
              "   'EN_HARD': 0,\n",
              "   'EN_SOFT': 0,\n",
              "   'KNN': 1.0,\n",
              "   'LR': 0.6735,\n",
              "   'SVM': 0.7093}},\n",
              " {'test': {'DT': 0.7013,\n",
              "   'EN_HARD': 0,\n",
              "   'EN_SOFT': 0,\n",
              "   'KNN': 0.7922,\n",
              "   'LR': 0.7597,\n",
              "   'SVM': 0.8247},\n",
              "  'train': {'DT': 1.0,\n",
              "   'EN_HARD': 0,\n",
              "   'EN_SOFT': 0,\n",
              "   'KNN': 1.0,\n",
              "   'LR': 0.741,\n",
              "   'SVM': 0.8225}})"
            ]
          },
          "metadata": {},
          "execution_count": 37
        }
      ]
    },
    {
      "cell_type": "markdown",
      "metadata": {
        "id": "pfPytCDYM1le"
      },
      "source": [
        "# Additional Question: \n",
        "### Interpret and explain the parameters you have chosen to fine tune in LR algorithm.\n",
        "Type your answer in the cell bellow as the markdown format."
      ]
    },
    {
      "cell_type": "markdown",
      "metadata": {
        "id": "RmPs5O5RM1lf"
      },
      "source": [
        "### TO DO:\n"
      ]
    },
    {
      "cell_type": "code",
      "metadata": {
        "id": "c4zNUUR_M1lg"
      },
      "source": [
        "#TO DO:\n",
        "1. tot = 0.0001 là giá trị bao dung (tolarance) để dừng cập nhật gradient descent nếu khoảng thay đổi của hàm mất mát sau một bước huấn luyện nhỏ hơn 0.0001\n",
        "2. max_iter =100 là số lượt huấn luyện tối đa.\n",
        "3. fit_intercept = Fasle để qui định không sử dụng trọng số tự do (chính là \n",
        " không bị phụ thuộc vào dữ liệu) hay không.\n",
        "4. solver = 'lbfgs' là phương pháp để giải bài toán tối ưu đối với cross entropy. Trong đó có: liblinear, sag, saga, newton-cg. \n",
        "Đối với dữ liệu kích thước nhỏ thì liblinear sử dụng sẽ phù hợp hơn.\n",
        "Trái lại sag, saga có tốc độ huấn luyện nhanh hơn cho dữ liệu lớn.\n",
        "5. penalty = : là dạng hàm được sử dụng làm thành phần điều chuẩn (regularization term) ở đây dùng chuẩn 2\n",
        "6. C = 1.0 Hệ số nhân của thành phần điều chuẩn.\n",
        "7. class_weight = None: Trọng số được nhân thêm ở mỗi nhóm.\n",
        "Thường được sử dụng trong trường hợp mẫu mất cân bằng giữa các nhóm để dự báo nhóm thiểu số tốt hơn. \n",
        "Trong số có tác dụng điều chỉnh mức độ phạt nếu dự báo sai một mẫu theo nhãn ground truth của mẫu. \n",
        "Nếu không được xác định thì ta hiểu trọng số nhóm là cân bằng."
      ],
      "execution_count": null,
      "outputs": []
    },
    {
      "cell_type": "markdown",
      "metadata": {
        "id": "xhThcwLYM1li"
      },
      "source": [
        "# Advanced part (15%  of the total score)"
      ]
    },
    {
      "cell_type": "markdown",
      "metadata": {
        "id": "eRc5JoN7M1lo"
      },
      "source": [
        "# Ensemble model"
      ]
    },
    {
      "cell_type": "markdown",
      "metadata": {
        "id": "8-eteyNxM1lo"
      },
      "source": [
        "### 19. Perform soft voting on the 4 above models (using the same setting for the 4 models as in previous steps.) \n",
        "**Hint**: Using VotingClassifier in sklearn.ensemble."
      ]
    },
    {
      "cell_type": "code",
      "metadata": {
        "id": "G7FfposgM1lp"
      },
      "source": [
        "from sklearn.ensemble import VotingClassifier"
      ],
      "execution_count": null,
      "outputs": []
    },
    {
      "cell_type": "code",
      "source": [
        "knn = KNeighborsClassifier(n_neighbors = 21, p=2, weights = 'distance')\n",
        "DT = DecisionTreeClassifier(criterion='entropy',splitter='best', max_depth=None, min_samples_split=2, min_samples_leaf=1, max_features=None,max_leaf_nodes=None,min_impurity_decrease=0.0)\n",
        "model_logistic = LogisticRegression(penalty='l2',tol=0.0001, C=1.0, fit_intercept=False, class_weight=None, solver='lbfgs', max_iter=100)\n",
        "model = SVC(kernel='linear', C=1,decision_function_shape='ovr',probability = True)"
      ],
      "metadata": {
        "id": "JFknGlQGnO3B"
      },
      "execution_count": null,
      "outputs": []
    },
    {
      "cell_type": "markdown",
      "metadata": {
        "id": "vZu5N_i3M1lu"
      },
      "source": [
        "### 20. Run the prediction on the ensembling model using soft voting on training data and test data, then calculate the f1 score and Jaccard similarity score and save it to f1_scores dict and jaccard_scores dict.¶\n",
        "\n",
        "**Requirement**: F1 score on test data must be higher than **0.66**, Jaccard similarity score must be higher than **0.78**."
      ]
    },
    {
      "cell_type": "code",
      "metadata": {
        "id": "SeuL7a0rM1lu",
        "colab": {
          "base_uri": "https://localhost:8080/"
        },
        "outputId": "15f34819-739b-4176-e52a-5c21828fa6ff"
      },
      "source": [
        "#TO DO:\n",
        "vote = VotingClassifier(estimators=[('knn', knn), ('dt', DT), ('log', model_logistic),('svm',model)], voting='soft')\n",
        "vote.fit(X_train, y_train)\n",
        "\n",
        "y_v_test = vote.predict(X_test)\n",
        "y_v_train = vote.predict(X_train)\n",
        "\n",
        "f1_soft_train = f1_score(y_train,y_v_train)\n",
        "j_soft_train = accuracy_score(y_train,y_v_train)\n",
        "\n",
        "f1_soft_test = metrics.f1_score(y_test,y_v_test)\n",
        "j_soft_test= metrics.accuracy_score(y_test,y_v_test)\n",
        "\n",
        "f1_soft_train, f1_soft_test, j_soft_train, j_soft_test\n"
      ],
      "execution_count": null,
      "outputs": [
        {
          "output_type": "execute_result",
          "data": {
            "text/plain": [
              "(1.0, 0.7222222222222222, 1.0, 0.8051948051948052)"
            ]
          },
          "metadata": {},
          "execution_count": 40
        }
      ]
    },
    {
      "cell_type": "code",
      "source": [
        "f1_scores['test']['EN_SOFT']= round(f1_soft_test,4)\n",
        "jaccard_scores['test']['EN_SOFT'] = round(j_soft_test,4)\n",
        "\n",
        "f1_scores['train']['EN_SOFT']= round(f1_soft_train,4)\n",
        "jaccard_scores['train']['EN_SOFT'] = round(j_soft_train,4)\n",
        "\n",
        "f1_scores, jaccard_scores"
      ],
      "metadata": {
        "colab": {
          "base_uri": "https://localhost:8080/"
        },
        "id": "8xa-f_LmuR9H",
        "outputId": "ecfffc0e-ef45-4564-c8c5-13ac5d9f854e"
      },
      "execution_count": null,
      "outputs": [
        {
          "output_type": "execute_result",
          "data": {
            "text/plain": [
              "({'test': {'DT': 0.6034,\n",
              "   'EN_HARD': 0,\n",
              "   'EN_SOFT': 0.7222,\n",
              "   'KNN': 0.6667,\n",
              "   'LR': 0.7176,\n",
              "   'SVM': 0.7327},\n",
              "  'train': {'DT': 1.0,\n",
              "   'EN_HARD': 0,\n",
              "   'EN_SOFT': 1.0,\n",
              "   'KNN': 1.0,\n",
              "   'LR': 0.6735,\n",
              "   'SVM': 0.7093}},\n",
              " {'test': {'DT': 0.7013,\n",
              "   'EN_HARD': 0,\n",
              "   'EN_SOFT': 0.8052,\n",
              "   'KNN': 0.7922,\n",
              "   'LR': 0.7597,\n",
              "   'SVM': 0.8247},\n",
              "  'train': {'DT': 1.0,\n",
              "   'EN_HARD': 0,\n",
              "   'EN_SOFT': 1.0,\n",
              "   'KNN': 1.0,\n",
              "   'LR': 0.741,\n",
              "   'SVM': 0.8225}})"
            ]
          },
          "metadata": {},
          "execution_count": 41
        }
      ]
    },
    {
      "cell_type": "markdown",
      "metadata": {
        "id": "d9vVirtTM1lw"
      },
      "source": [
        "### 21, 22. Perform task 19 and 20 using hard voting.\n",
        "Hint: Using GridSearchCV in sklearn.model_selection.\n",
        "\n",
        "**Warning**: You should not use the test data for finding the best parameters.\n",
        "\n",
        "**Requirement**: F1 score on test data must be higher than **0.57**, Jaccard similarity score must be higher than **0.73**."
      ]
    },
    {
      "cell_type": "code",
      "metadata": {
        "id": "zxvqWZBcM1lz",
        "colab": {
          "base_uri": "https://localhost:8080/"
        },
        "outputId": "8217f318-0251-467b-ba98-29efe38c5ce1"
      },
      "source": [
        "#TO DO:\n",
        "vote_hard = VotingClassifier(estimators=[('knn', knn), ('dt', DT), ('log', model_logistic),('svm',model)], voting='hard')\n",
        "vote_hard.fit(X_train, y_train)\n",
        "\n",
        "y_h_test = vote_hard.predict(X_test)\n",
        "y_h_train = vote_hard.predict(X_train)\n",
        "\n",
        "f1_h_train = f1_score(y_train,y_h_train)\n",
        "j_h_train = accuracy_score(y_train,y_h_train)\n",
        "f1_h_test = metrics.f1_score(y_test,y_h_test)\n",
        "j_h_test= metrics.accuracy_score(y_test,y_h_test)\n",
        "f1_h_train, f1_h_test, j_h_train, j_h_test"
      ],
      "execution_count": null,
      "outputs": [
        {
          "output_type": "execute_result",
          "data": {
            "text/plain": [
              "(0.8746666666666667,\n",
              " 0.6734693877551021,\n",
              " 0.9234527687296417,\n",
              " 0.7922077922077922)"
            ]
          },
          "metadata": {},
          "execution_count": 42
        }
      ]
    },
    {
      "cell_type": "code",
      "source": [
        "f1_scores['test']['EN_HARD']= round(f1_h_test,4)\n",
        "jaccard_scores['test']['EN_HARD'] = round(j_h_test,4)\n",
        "\n",
        "f1_scores['train']['EN_HARD']= round(f1_h_train,4)\n",
        "jaccard_scores['train']['EN_HARD'] = round(j_h_train,4)\n",
        "\n",
        "f1_scores, jaccard_scores"
      ],
      "metadata": {
        "colab": {
          "base_uri": "https://localhost:8080/"
        },
        "id": "Hx9smEVOu29o",
        "outputId": "ec3f57df-2856-48ee-f8f6-32991722ac93"
      },
      "execution_count": null,
      "outputs": [
        {
          "output_type": "execute_result",
          "data": {
            "text/plain": [
              "({'test': {'DT': 0.6034,\n",
              "   'EN_HARD': 0.6735,\n",
              "   'EN_SOFT': 0.7222,\n",
              "   'KNN': 0.6667,\n",
              "   'LR': 0.7176,\n",
              "   'SVM': 0.7327},\n",
              "  'train': {'DT': 1.0,\n",
              "   'EN_HARD': 0.8747,\n",
              "   'EN_SOFT': 1.0,\n",
              "   'KNN': 1.0,\n",
              "   'LR': 0.6735,\n",
              "   'SVM': 0.7093}},\n",
              " {'test': {'DT': 0.7013,\n",
              "   'EN_HARD': 0.7922,\n",
              "   'EN_SOFT': 0.8052,\n",
              "   'KNN': 0.7922,\n",
              "   'LR': 0.7597,\n",
              "   'SVM': 0.8247},\n",
              "  'train': {'DT': 1.0,\n",
              "   'EN_HARD': 0.9235,\n",
              "   'EN_SOFT': 1.0,\n",
              "   'KNN': 1.0,\n",
              "   'LR': 0.741,\n",
              "   'SVM': 0.8225}})"
            ]
          },
          "metadata": {},
          "execution_count": 43
        }
      ]
    },
    {
      "cell_type": "markdown",
      "metadata": {
        "id": "RmteU8YeM1l3"
      },
      "source": [
        "# Report\n",
        "You should be able to report the accuracy of the built model using different evaluation metrics:"
      ]
    },
    {
      "cell_type": "markdown",
      "metadata": {
        "id": "c3q0IThKM1l3"
      },
      "source": [
        "| Algorithm          | Jaccard-training | F1-score-training |Jaccard-testing | F1-score-testing |\n",
        "|--------------------|------------------|-------------------|----------------|------------------|\n",
        "| KNN                | ?                | ?                 |  ?             |  ?               |\n",
        "| Decision Tree      | ?                | ?                 |  ?             |  ?               |\n",
        "| SVM                | ?                | ?                 |  ?             |  ?               |\n",
        "| Logistic Regression| ?                | ?                 |  ?             |  ?               |\n",
        "| Hard Voting        | ?                | ?                 |  ?             |  ?               |\n",
        "| Soft Voting        | ?                | ?                 |  ?             |  ?               |\n"
      ]
    },
    {
      "cell_type": "markdown",
      "metadata": {
        "id": "PpqjW-eOM1l3"
      },
      "source": [
        "### 23. Create a data frame that describes the result as exactly as above."
      ]
    },
    {
      "cell_type": "code",
      "source": [
        "final1 = pd.DataFrame(f1_scores)\n",
        "final1 = final1.rename(columns={'train':'f1_train','test':'f1_test'})\n",
        "final1"
      ],
      "metadata": {
        "colab": {
          "base_uri": "https://localhost:8080/",
          "height": 237
        },
        "id": "qYXFRsmJwE2d",
        "outputId": "9c440d87-19b1-418d-bde0-7d4bdd5ab5a2"
      },
      "execution_count": null,
      "outputs": [
        {
          "output_type": "execute_result",
          "data": {
            "text/html": [
              "\n",
              "  <div id=\"df-6a3d9d1a-c921-4878-ad05-a972675a8c97\">\n",
              "    <div class=\"colab-df-container\">\n",
              "      <div>\n",
              "<style scoped>\n",
              "    .dataframe tbody tr th:only-of-type {\n",
              "        vertical-align: middle;\n",
              "    }\n",
              "\n",
              "    .dataframe tbody tr th {\n",
              "        vertical-align: top;\n",
              "    }\n",
              "\n",
              "    .dataframe thead th {\n",
              "        text-align: right;\n",
              "    }\n",
              "</style>\n",
              "<table border=\"1\" class=\"dataframe\">\n",
              "  <thead>\n",
              "    <tr style=\"text-align: right;\">\n",
              "      <th></th>\n",
              "      <th>f1_train</th>\n",
              "      <th>f1_test</th>\n",
              "    </tr>\n",
              "  </thead>\n",
              "  <tbody>\n",
              "    <tr>\n",
              "      <th>KNN</th>\n",
              "      <td>1.0000</td>\n",
              "      <td>0.6667</td>\n",
              "    </tr>\n",
              "    <tr>\n",
              "      <th>DT</th>\n",
              "      <td>1.0000</td>\n",
              "      <td>0.6034</td>\n",
              "    </tr>\n",
              "    <tr>\n",
              "      <th>SVM</th>\n",
              "      <td>0.7093</td>\n",
              "      <td>0.7327</td>\n",
              "    </tr>\n",
              "    <tr>\n",
              "      <th>LR</th>\n",
              "      <td>0.6735</td>\n",
              "      <td>0.7176</td>\n",
              "    </tr>\n",
              "    <tr>\n",
              "      <th>EN_HARD</th>\n",
              "      <td>0.8747</td>\n",
              "      <td>0.6735</td>\n",
              "    </tr>\n",
              "    <tr>\n",
              "      <th>EN_SOFT</th>\n",
              "      <td>1.0000</td>\n",
              "      <td>0.7222</td>\n",
              "    </tr>\n",
              "  </tbody>\n",
              "</table>\n",
              "</div>\n",
              "      <button class=\"colab-df-convert\" onclick=\"convertToInteractive('df-6a3d9d1a-c921-4878-ad05-a972675a8c97')\"\n",
              "              title=\"Convert this dataframe to an interactive table.\"\n",
              "              style=\"display:none;\">\n",
              "        \n",
              "  <svg xmlns=\"http://www.w3.org/2000/svg\" height=\"24px\"viewBox=\"0 0 24 24\"\n",
              "       width=\"24px\">\n",
              "    <path d=\"M0 0h24v24H0V0z\" fill=\"none\"/>\n",
              "    <path d=\"M18.56 5.44l.94 2.06.94-2.06 2.06-.94-2.06-.94-.94-2.06-.94 2.06-2.06.94zm-11 1L8.5 8.5l.94-2.06 2.06-.94-2.06-.94L8.5 2.5l-.94 2.06-2.06.94zm10 10l.94 2.06.94-2.06 2.06-.94-2.06-.94-.94-2.06-.94 2.06-2.06.94z\"/><path d=\"M17.41 7.96l-1.37-1.37c-.4-.4-.92-.59-1.43-.59-.52 0-1.04.2-1.43.59L10.3 9.45l-7.72 7.72c-.78.78-.78 2.05 0 2.83L4 21.41c.39.39.9.59 1.41.59.51 0 1.02-.2 1.41-.59l7.78-7.78 2.81-2.81c.8-.78.8-2.07 0-2.86zM5.41 20L4 18.59l7.72-7.72 1.47 1.35L5.41 20z\"/>\n",
              "  </svg>\n",
              "      </button>\n",
              "      \n",
              "  <style>\n",
              "    .colab-df-container {\n",
              "      display:flex;\n",
              "      flex-wrap:wrap;\n",
              "      gap: 12px;\n",
              "    }\n",
              "\n",
              "    .colab-df-convert {\n",
              "      background-color: #E8F0FE;\n",
              "      border: none;\n",
              "      border-radius: 50%;\n",
              "      cursor: pointer;\n",
              "      display: none;\n",
              "      fill: #1967D2;\n",
              "      height: 32px;\n",
              "      padding: 0 0 0 0;\n",
              "      width: 32px;\n",
              "    }\n",
              "\n",
              "    .colab-df-convert:hover {\n",
              "      background-color: #E2EBFA;\n",
              "      box-shadow: 0px 1px 2px rgba(60, 64, 67, 0.3), 0px 1px 3px 1px rgba(60, 64, 67, 0.15);\n",
              "      fill: #174EA6;\n",
              "    }\n",
              "\n",
              "    [theme=dark] .colab-df-convert {\n",
              "      background-color: #3B4455;\n",
              "      fill: #D2E3FC;\n",
              "    }\n",
              "\n",
              "    [theme=dark] .colab-df-convert:hover {\n",
              "      background-color: #434B5C;\n",
              "      box-shadow: 0px 1px 3px 1px rgba(0, 0, 0, 0.15);\n",
              "      filter: drop-shadow(0px 1px 2px rgba(0, 0, 0, 0.3));\n",
              "      fill: #FFFFFF;\n",
              "    }\n",
              "  </style>\n",
              "\n",
              "      <script>\n",
              "        const buttonEl =\n",
              "          document.querySelector('#df-6a3d9d1a-c921-4878-ad05-a972675a8c97 button.colab-df-convert');\n",
              "        buttonEl.style.display =\n",
              "          google.colab.kernel.accessAllowed ? 'block' : 'none';\n",
              "\n",
              "        async function convertToInteractive(key) {\n",
              "          const element = document.querySelector('#df-6a3d9d1a-c921-4878-ad05-a972675a8c97');\n",
              "          const dataTable =\n",
              "            await google.colab.kernel.invokeFunction('convertToInteractive',\n",
              "                                                     [key], {});\n",
              "          if (!dataTable) return;\n",
              "\n",
              "          const docLinkHtml = 'Like what you see? Visit the ' +\n",
              "            '<a target=\"_blank\" href=https://colab.research.google.com/notebooks/data_table.ipynb>data table notebook</a>'\n",
              "            + ' to learn more about interactive tables.';\n",
              "          element.innerHTML = '';\n",
              "          dataTable['output_type'] = 'display_data';\n",
              "          await google.colab.output.renderOutput(dataTable, element);\n",
              "          const docLink = document.createElement('div');\n",
              "          docLink.innerHTML = docLinkHtml;\n",
              "          element.appendChild(docLink);\n",
              "        }\n",
              "      </script>\n",
              "    </div>\n",
              "  </div>\n",
              "  "
            ],
            "text/plain": [
              "         f1_train  f1_test\n",
              "KNN        1.0000   0.6667\n",
              "DT         1.0000   0.6034\n",
              "SVM        0.7093   0.7327\n",
              "LR         0.6735   0.7176\n",
              "EN_HARD    0.8747   0.6735\n",
              "EN_SOFT    1.0000   0.7222"
            ]
          },
          "metadata": {},
          "execution_count": 63
        }
      ]
    },
    {
      "cell_type": "code",
      "source": [
        "final2 = pd.DataFrame(jaccard_scores)\n",
        "final2 = final2.rename(columns={'train':'J_train','test':'J_test'})\n",
        "final2"
      ],
      "metadata": {
        "id": "x6rxsPoQcCTx",
        "outputId": "49c8816d-afde-4211-b738-116da572bed6",
        "colab": {
          "base_uri": "https://localhost:8080/",
          "height": 237
        }
      },
      "execution_count": null,
      "outputs": [
        {
          "output_type": "execute_result",
          "data": {
            "text/html": [
              "\n",
              "  <div id=\"df-b8aae12a-a94f-487b-a26e-fe17184c271d\">\n",
              "    <div class=\"colab-df-container\">\n",
              "      <div>\n",
              "<style scoped>\n",
              "    .dataframe tbody tr th:only-of-type {\n",
              "        vertical-align: middle;\n",
              "    }\n",
              "\n",
              "    .dataframe tbody tr th {\n",
              "        vertical-align: top;\n",
              "    }\n",
              "\n",
              "    .dataframe thead th {\n",
              "        text-align: right;\n",
              "    }\n",
              "</style>\n",
              "<table border=\"1\" class=\"dataframe\">\n",
              "  <thead>\n",
              "    <tr style=\"text-align: right;\">\n",
              "      <th></th>\n",
              "      <th>J_train</th>\n",
              "      <th>J_test</th>\n",
              "    </tr>\n",
              "  </thead>\n",
              "  <tbody>\n",
              "    <tr>\n",
              "      <th>KNN</th>\n",
              "      <td>1.0000</td>\n",
              "      <td>0.7922</td>\n",
              "    </tr>\n",
              "    <tr>\n",
              "      <th>DT</th>\n",
              "      <td>1.0000</td>\n",
              "      <td>0.7013</td>\n",
              "    </tr>\n",
              "    <tr>\n",
              "      <th>SVM</th>\n",
              "      <td>0.8225</td>\n",
              "      <td>0.8247</td>\n",
              "    </tr>\n",
              "    <tr>\n",
              "      <th>LR</th>\n",
              "      <td>0.7410</td>\n",
              "      <td>0.7597</td>\n",
              "    </tr>\n",
              "    <tr>\n",
              "      <th>EN_HARD</th>\n",
              "      <td>0.9235</td>\n",
              "      <td>0.7922</td>\n",
              "    </tr>\n",
              "    <tr>\n",
              "      <th>EN_SOFT</th>\n",
              "      <td>1.0000</td>\n",
              "      <td>0.8052</td>\n",
              "    </tr>\n",
              "  </tbody>\n",
              "</table>\n",
              "</div>\n",
              "      <button class=\"colab-df-convert\" onclick=\"convertToInteractive('df-b8aae12a-a94f-487b-a26e-fe17184c271d')\"\n",
              "              title=\"Convert this dataframe to an interactive table.\"\n",
              "              style=\"display:none;\">\n",
              "        \n",
              "  <svg xmlns=\"http://www.w3.org/2000/svg\" height=\"24px\"viewBox=\"0 0 24 24\"\n",
              "       width=\"24px\">\n",
              "    <path d=\"M0 0h24v24H0V0z\" fill=\"none\"/>\n",
              "    <path d=\"M18.56 5.44l.94 2.06.94-2.06 2.06-.94-2.06-.94-.94-2.06-.94 2.06-2.06.94zm-11 1L8.5 8.5l.94-2.06 2.06-.94-2.06-.94L8.5 2.5l-.94 2.06-2.06.94zm10 10l.94 2.06.94-2.06 2.06-.94-2.06-.94-.94-2.06-.94 2.06-2.06.94z\"/><path d=\"M17.41 7.96l-1.37-1.37c-.4-.4-.92-.59-1.43-.59-.52 0-1.04.2-1.43.59L10.3 9.45l-7.72 7.72c-.78.78-.78 2.05 0 2.83L4 21.41c.39.39.9.59 1.41.59.51 0 1.02-.2 1.41-.59l7.78-7.78 2.81-2.81c.8-.78.8-2.07 0-2.86zM5.41 20L4 18.59l7.72-7.72 1.47 1.35L5.41 20z\"/>\n",
              "  </svg>\n",
              "      </button>\n",
              "      \n",
              "  <style>\n",
              "    .colab-df-container {\n",
              "      display:flex;\n",
              "      flex-wrap:wrap;\n",
              "      gap: 12px;\n",
              "    }\n",
              "\n",
              "    .colab-df-convert {\n",
              "      background-color: #E8F0FE;\n",
              "      border: none;\n",
              "      border-radius: 50%;\n",
              "      cursor: pointer;\n",
              "      display: none;\n",
              "      fill: #1967D2;\n",
              "      height: 32px;\n",
              "      padding: 0 0 0 0;\n",
              "      width: 32px;\n",
              "    }\n",
              "\n",
              "    .colab-df-convert:hover {\n",
              "      background-color: #E2EBFA;\n",
              "      box-shadow: 0px 1px 2px rgba(60, 64, 67, 0.3), 0px 1px 3px 1px rgba(60, 64, 67, 0.15);\n",
              "      fill: #174EA6;\n",
              "    }\n",
              "\n",
              "    [theme=dark] .colab-df-convert {\n",
              "      background-color: #3B4455;\n",
              "      fill: #D2E3FC;\n",
              "    }\n",
              "\n",
              "    [theme=dark] .colab-df-convert:hover {\n",
              "      background-color: #434B5C;\n",
              "      box-shadow: 0px 1px 3px 1px rgba(0, 0, 0, 0.15);\n",
              "      filter: drop-shadow(0px 1px 2px rgba(0, 0, 0, 0.3));\n",
              "      fill: #FFFFFF;\n",
              "    }\n",
              "  </style>\n",
              "\n",
              "      <script>\n",
              "        const buttonEl =\n",
              "          document.querySelector('#df-b8aae12a-a94f-487b-a26e-fe17184c271d button.colab-df-convert');\n",
              "        buttonEl.style.display =\n",
              "          google.colab.kernel.accessAllowed ? 'block' : 'none';\n",
              "\n",
              "        async function convertToInteractive(key) {\n",
              "          const element = document.querySelector('#df-b8aae12a-a94f-487b-a26e-fe17184c271d');\n",
              "          const dataTable =\n",
              "            await google.colab.kernel.invokeFunction('convertToInteractive',\n",
              "                                                     [key], {});\n",
              "          if (!dataTable) return;\n",
              "\n",
              "          const docLinkHtml = 'Like what you see? Visit the ' +\n",
              "            '<a target=\"_blank\" href=https://colab.research.google.com/notebooks/data_table.ipynb>data table notebook</a>'\n",
              "            + ' to learn more about interactive tables.';\n",
              "          element.innerHTML = '';\n",
              "          dataTable['output_type'] = 'display_data';\n",
              "          await google.colab.output.renderOutput(dataTable, element);\n",
              "          const docLink = document.createElement('div');\n",
              "          docLink.innerHTML = docLinkHtml;\n",
              "          element.appendChild(docLink);\n",
              "        }\n",
              "      </script>\n",
              "    </div>\n",
              "  </div>\n",
              "  "
            ],
            "text/plain": [
              "         J_train  J_test\n",
              "KNN       1.0000  0.7922\n",
              "DT        1.0000  0.7013\n",
              "SVM       0.8225  0.8247\n",
              "LR        0.7410  0.7597\n",
              "EN_HARD   0.9235  0.7922\n",
              "EN_SOFT   1.0000  0.8052"
            ]
          },
          "metadata": {},
          "execution_count": 65
        }
      ]
    },
    {
      "cell_type": "code",
      "source": [
        "final = pd.concat([final1,final2],axis=1)\n",
        "final"
      ],
      "metadata": {
        "colab": {
          "base_uri": "https://localhost:8080/",
          "height": 237
        },
        "id": "Fl5Ta5mmiAtk",
        "outputId": "a8738045-feae-47dd-d2b0-b57ff7cb1627"
      },
      "execution_count": null,
      "outputs": [
        {
          "output_type": "execute_result",
          "data": {
            "text/html": [
              "\n",
              "  <div id=\"df-c5bf91ae-467b-4e0a-a9b8-b555f095bf47\">\n",
              "    <div class=\"colab-df-container\">\n",
              "      <div>\n",
              "<style scoped>\n",
              "    .dataframe tbody tr th:only-of-type {\n",
              "        vertical-align: middle;\n",
              "    }\n",
              "\n",
              "    .dataframe tbody tr th {\n",
              "        vertical-align: top;\n",
              "    }\n",
              "\n",
              "    .dataframe thead th {\n",
              "        text-align: right;\n",
              "    }\n",
              "</style>\n",
              "<table border=\"1\" class=\"dataframe\">\n",
              "  <thead>\n",
              "    <tr style=\"text-align: right;\">\n",
              "      <th></th>\n",
              "      <th>f1_train</th>\n",
              "      <th>f1_test</th>\n",
              "      <th>J_train</th>\n",
              "      <th>J_test</th>\n",
              "    </tr>\n",
              "  </thead>\n",
              "  <tbody>\n",
              "    <tr>\n",
              "      <th>KNN</th>\n",
              "      <td>1.0000</td>\n",
              "      <td>0.6667</td>\n",
              "      <td>1.0000</td>\n",
              "      <td>0.7922</td>\n",
              "    </tr>\n",
              "    <tr>\n",
              "      <th>DT</th>\n",
              "      <td>1.0000</td>\n",
              "      <td>0.6034</td>\n",
              "      <td>1.0000</td>\n",
              "      <td>0.7013</td>\n",
              "    </tr>\n",
              "    <tr>\n",
              "      <th>SVM</th>\n",
              "      <td>0.7093</td>\n",
              "      <td>0.7327</td>\n",
              "      <td>0.8225</td>\n",
              "      <td>0.8247</td>\n",
              "    </tr>\n",
              "    <tr>\n",
              "      <th>LR</th>\n",
              "      <td>0.6735</td>\n",
              "      <td>0.7176</td>\n",
              "      <td>0.7410</td>\n",
              "      <td>0.7597</td>\n",
              "    </tr>\n",
              "    <tr>\n",
              "      <th>EN_HARD</th>\n",
              "      <td>0.8747</td>\n",
              "      <td>0.6735</td>\n",
              "      <td>0.9235</td>\n",
              "      <td>0.7922</td>\n",
              "    </tr>\n",
              "    <tr>\n",
              "      <th>EN_SOFT</th>\n",
              "      <td>1.0000</td>\n",
              "      <td>0.7222</td>\n",
              "      <td>1.0000</td>\n",
              "      <td>0.8052</td>\n",
              "    </tr>\n",
              "  </tbody>\n",
              "</table>\n",
              "</div>\n",
              "      <button class=\"colab-df-convert\" onclick=\"convertToInteractive('df-c5bf91ae-467b-4e0a-a9b8-b555f095bf47')\"\n",
              "              title=\"Convert this dataframe to an interactive table.\"\n",
              "              style=\"display:none;\">\n",
              "        \n",
              "  <svg xmlns=\"http://www.w3.org/2000/svg\" height=\"24px\"viewBox=\"0 0 24 24\"\n",
              "       width=\"24px\">\n",
              "    <path d=\"M0 0h24v24H0V0z\" fill=\"none\"/>\n",
              "    <path d=\"M18.56 5.44l.94 2.06.94-2.06 2.06-.94-2.06-.94-.94-2.06-.94 2.06-2.06.94zm-11 1L8.5 8.5l.94-2.06 2.06-.94-2.06-.94L8.5 2.5l-.94 2.06-2.06.94zm10 10l.94 2.06.94-2.06 2.06-.94-2.06-.94-.94-2.06-.94 2.06-2.06.94z\"/><path d=\"M17.41 7.96l-1.37-1.37c-.4-.4-.92-.59-1.43-.59-.52 0-1.04.2-1.43.59L10.3 9.45l-7.72 7.72c-.78.78-.78 2.05 0 2.83L4 21.41c.39.39.9.59 1.41.59.51 0 1.02-.2 1.41-.59l7.78-7.78 2.81-2.81c.8-.78.8-2.07 0-2.86zM5.41 20L4 18.59l7.72-7.72 1.47 1.35L5.41 20z\"/>\n",
              "  </svg>\n",
              "      </button>\n",
              "      \n",
              "  <style>\n",
              "    .colab-df-container {\n",
              "      display:flex;\n",
              "      flex-wrap:wrap;\n",
              "      gap: 12px;\n",
              "    }\n",
              "\n",
              "    .colab-df-convert {\n",
              "      background-color: #E8F0FE;\n",
              "      border: none;\n",
              "      border-radius: 50%;\n",
              "      cursor: pointer;\n",
              "      display: none;\n",
              "      fill: #1967D2;\n",
              "      height: 32px;\n",
              "      padding: 0 0 0 0;\n",
              "      width: 32px;\n",
              "    }\n",
              "\n",
              "    .colab-df-convert:hover {\n",
              "      background-color: #E2EBFA;\n",
              "      box-shadow: 0px 1px 2px rgba(60, 64, 67, 0.3), 0px 1px 3px 1px rgba(60, 64, 67, 0.15);\n",
              "      fill: #174EA6;\n",
              "    }\n",
              "\n",
              "    [theme=dark] .colab-df-convert {\n",
              "      background-color: #3B4455;\n",
              "      fill: #D2E3FC;\n",
              "    }\n",
              "\n",
              "    [theme=dark] .colab-df-convert:hover {\n",
              "      background-color: #434B5C;\n",
              "      box-shadow: 0px 1px 3px 1px rgba(0, 0, 0, 0.15);\n",
              "      filter: drop-shadow(0px 1px 2px rgba(0, 0, 0, 0.3));\n",
              "      fill: #FFFFFF;\n",
              "    }\n",
              "  </style>\n",
              "\n",
              "      <script>\n",
              "        const buttonEl =\n",
              "          document.querySelector('#df-c5bf91ae-467b-4e0a-a9b8-b555f095bf47 button.colab-df-convert');\n",
              "        buttonEl.style.display =\n",
              "          google.colab.kernel.accessAllowed ? 'block' : 'none';\n",
              "\n",
              "        async function convertToInteractive(key) {\n",
              "          const element = document.querySelector('#df-c5bf91ae-467b-4e0a-a9b8-b555f095bf47');\n",
              "          const dataTable =\n",
              "            await google.colab.kernel.invokeFunction('convertToInteractive',\n",
              "                                                     [key], {});\n",
              "          if (!dataTable) return;\n",
              "\n",
              "          const docLinkHtml = 'Like what you see? Visit the ' +\n",
              "            '<a target=\"_blank\" href=https://colab.research.google.com/notebooks/data_table.ipynb>data table notebook</a>'\n",
              "            + ' to learn more about interactive tables.';\n",
              "          element.innerHTML = '';\n",
              "          dataTable['output_type'] = 'display_data';\n",
              "          await google.colab.output.renderOutput(dataTable, element);\n",
              "          const docLink = document.createElement('div');\n",
              "          docLink.innerHTML = docLinkHtml;\n",
              "          element.appendChild(docLink);\n",
              "        }\n",
              "      </script>\n",
              "    </div>\n",
              "  </div>\n",
              "  "
            ],
            "text/plain": [
              "         f1_train  f1_test  J_train  J_test\n",
              "KNN        1.0000   0.6667   1.0000  0.7922\n",
              "DT         1.0000   0.6034   1.0000  0.7013\n",
              "SVM        0.7093   0.7327   0.8225  0.8247\n",
              "LR         0.6735   0.7176   0.7410  0.7597\n",
              "EN_HARD    0.8747   0.6735   0.9235  0.7922\n",
              "EN_SOFT    1.0000   0.7222   1.0000  0.8052"
            ]
          },
          "metadata": {},
          "execution_count": 66
        }
      ]
    },
    {
      "cell_type": "markdown",
      "metadata": {
        "id": "TYifTRP7M1l5"
      },
      "source": [
        "# Additional Question: \n",
        "### Are ensemble methods always better than a single model? If not, explain why?\n",
        "Type your answer in the cell bellow as the markdown format.\n",
        "\t"
      ]
    },
    {
      "cell_type": "markdown",
      "metadata": {
        "id": "450BrJ44M1l6"
      },
      "source": [
        "### TO DO:\n",
        "1. Hiệu suất:  Một nhóm có thể đưa ra dự đoán tốt hơn và đạt được hiệu suất tốt hơn bất kỳ mô hình đóng góp đơn lẻ nào.\n",
        "2. Tính mạnh mẽ : Một tập hợp làm giảm sự lan truyền hoặc phân tán của các dự đoán và hiệu suất của mô hình."
      ]
    }
  ]
}